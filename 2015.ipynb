{
 "cells": [
  {
   "cell_type": "markdown",
   "metadata": {},
   "source": [
    "# Advent of Code 2015\n",
    "\n",
    "In recent years I have done [Advent of Code](https://adventofcode.com/2015/) for fun. Drawing inspiration *(and sometimes code)* from the great [Peter Norvig](https://github.com/norvig/pytudes/blob/main/ipynb/Advent-2021.ipynb) I wanted to publish my solution in a similar vein and style as he has done.\n",
    "\n",
    "Following Norvig's example, each day's work will consist of three tasks, denoted by three bulleted section:\n",
    "\n",
    "* **Input**: Parse the day's input file. I will use the function `parse(day, parser, sep)`, which:\n",
    "    - Reads the input file for day.\n",
    "    - Prints out the first few lines of the file (to remind me, and the notebook reader, what's in the file).\n",
    "    - Breaks the file into a sequence of entries separated by `sep` (default newline).\n",
    "    - Applies parser to each entry and returns the results as a tuple.\n",
    "        - Useful parser functions include `ints`, `digits`, `atoms`, `words`, and the built-ins `int` and `str`.\n",
    "* **Part 1**: Understand the day's instructions and:\n",
    "    - Write code to compute the answer to Part 1.\n",
    "    - Record the answer with the `answer` function, which also serves as a unit test when the notebook is re-run.\n",
    "* **Part 2**: Understand the second part of the instructions and:\n",
    "    - Write code and record answer for Part 2.\n",
    "    \n",
    "First I import utilities from Norvig along with some others I have found useful."
   ]
  },
  {
   "cell_type": "code",
   "execution_count": 8,
   "metadata": {
    "pycharm": {
     "name": "#%%\n"
    }
   },
   "outputs": [],
   "source": [
    "from collections import Counter, defaultdict, namedtuple, deque\n",
    "from itertools import permutations, combinations, chain, count as count_from, product as cross_product, groupby, repeat, combinations_with_replacement\n",
    "from functools import lru_cache, partial\n",
    "from hashlib import md5\n",
    "from ast import literal_eval\n",
    "import json\n",
    "import queue\n",
    "import operator\n",
    "import math\n",
    "import sys\n",
    "import re\n",
    "from statistics import mean, median\n",
    "from math import ceil, inf, prod\n",
    "from random import shuffle\n",
    "\n",
    "import matplotlib.pyplot as plt\n",
    "import numpy as np"
   ]
  },
  {
   "cell_type": "code",
   "execution_count": 9,
   "metadata": {
    "pycharm": {
     "name": "#%%\n"
    }
   },
   "outputs": [],
   "source": [
    "def answer(puzzle_number, got, expected):\n",
    "    \"\"\"Verify the answer we got was the expected answer.\"\"\"\n",
    "    assert got == expected, f'For {puzzle_number}, expected {expected} but got {got}.'\n",
    "    return True\n",
    "\n",
    "\n",
    "def parse(day, parser=str, sep='\\n', print_lines=7):\n",
    "    \"\"\"Split the day's input file into entries separated by `sep`, and apply `parser` to each and `final` to the result\"\"\"\n",
    "    fname = f'data/2015/input{day}.txt'\n",
    "    text = open(fname).read()\n",
    "    entries = mapt(parser, text.rstrip().split(sep))\n",
    "    if print_lines:\n",
    "        all_lines = text.splitlines()\n",
    "        lines = all_lines[:print_lines]\n",
    "        head = f'{fname} ➜ {len(text)} chars, {len(all_lines)} lines; first {len(lines)} lines:'\n",
    "        dash = \"-\" * 100\n",
    "        print(f'{dash}\\n{head}\\n{dash}')\n",
    "        for line in lines:\n",
    "            print(trunc(line))\n",
    "        print(f'{dash}\\nparse({day}) ➜ {len(entries)} entries:\\n'\n",
    "              f'{dash}\\n{trunc(str(entries))}\\n{dash}')\n",
    "    return entries\n",
    "\n",
    "\n",
    "def trunc(s, left=70, right=25, dots=' ... '):\n",
    "    \"\"\"All of string s if it fits; else left and right ends of s with dots in the middle.\"\"\"\n",
    "    return s if len(s) <= left + right + len(dots) else s[:left] + dots + s[-right:]"
   ]
  },
  {
   "cell_type": "code",
   "execution_count": 10,
   "metadata": {
    "pycharm": {
     "name": "#%%\n"
    }
   },
   "outputs": [],
   "source": [
    "def quantify(iterable, pred=bool):\n",
    "    \"\"\"Count the number of items in iterable for which pred is true.\"\"\"\n",
    "    return sum(1 for item in iterable if pred(item))\n",
    "\n",
    "\n",
    "def first(iterable, default=None):\n",
    "    \"\"\"Return first item in iterable, or default.\"\"\"\n",
    "    return next(iter(iterable), default)\n",
    "\n",
    "\n",
    "def multimap(items):\n",
    "    \"\"\"Given (key, val) pairs, return {key: [val, ....], ...}.\"\"\"\n",
    "    result = defaultdict(list)\n",
    "    for key, val in items:\n",
    "        result[key].append(val)\n",
    "    return result\n",
    "\n",
    "\n",
    "def multidict(items):\n",
    "    \"\"\"Given (key1, key2, val) pairs, return {key1: {key2: val, ...}, ...}.\"\"\"\n",
    "    result = defaultdict(lambda: defaultdict(lambda: 0))\n",
    "    for a, b, val in items:\n",
    "        result[a][b] = val\n",
    "    return result\n",
    "\n",
    "\n",
    "def n_times(fn, times, init):\n",
    "    for _ in range(times):\n",
    "        init = fn(init)\n",
    "    return init\n",
    "\n",
    "\n",
    "def ints(text):\n",
    "    \"\"\"Return a tuple of all the integers in text.\"\"\"\n",
    "    return mapt(int, re.findall('-?[0-9]+', text))\n",
    "\n",
    "\n",
    "def digits(text):\n",
    "    \"\"\"A tuple of all the digits in text (as ints 0–9), ignoring non-digit characters.\"\"\"\n",
    "    return mapt(int, re.findall(r'[0-9]', text))\n",
    "\n",
    "\n",
    "def atoms(text):\n",
    "    \"\"\"A tuple of all the atoms (numbers or symbol names) in text.\"\"\"\n",
    "    return mapt(atom, re.findall(r'[a-zA-Z_0-9.+-]+', text))\n",
    "\n",
    "\n",
    "def atom(text):\n",
    "    \"\"\"Parse text into a single float or int or str.\"\"\"\n",
    "    try:\n",
    "        x = float(text)\n",
    "        return round(x) if round(x) == x else x\n",
    "    except ValueError:\n",
    "        return text\n",
    "\n",
    "\n",
    "def mapt(fn, *args):\n",
    "    \"\"\"map(fn, *args) and return the result as a tuple.\"\"\"\n",
    "    return tuple(map(fn, *args))\n",
    "\n",
    "\n",
    "cat = ''.join\n",
    "flatten = chain.from_iterable"
   ]
  },
  {
   "cell_type": "markdown",
   "metadata": {
    "pycharm": {
     "name": "#%% md\n"
    }
   },
   "source": [
    "I've included code that scrapes [adventofcode.com](https://adventofcode.com/) for input files. Note that you will have to be logged-in using a browser of your choice.\n",
    "\n",
    "Your answers will naturally vary from the numbers in my `answer` functions."
   ]
  },
  {
   "cell_type": "code",
   "execution_count": 4,
   "metadata": {
    "pycharm": {
     "name": "#%%\n"
    }
   },
   "outputs": [],
   "source": [
    "import requests\n",
    "import browser_cookie3\n",
    "from bs4 import BeautifulSoup\n",
    "\n",
    "cj = browser_cookie3.firefox()  # Get cookies from currently open browser, could be `.chrome()` or `.brave()`\n",
    "\n",
    "for day in range(1, 26):\n",
    "    r = requests.get(f\"https://adventofcode.com/2015/day/{day}/input\", cookies=cj)\n",
    "    open(f\"data/2015/input{day}.txt\", \"w\").write(r.text)\n",
    "    r = requests.get(f\"https://adventofcode.com/2015/day/{day}\", cookies=cj)\n",
    "    print(BeautifulSoup(r.text).find('h2').text.replace('---', '').strip())"
   ]
  },
  {
   "cell_type": "markdown",
   "metadata": {},
   "source": [
    "# [Day 1](https://adventofcode.com/2015/day/1): Not Quite Lisp\n",
    "\n",
    "* **Input**: A list where each entry is either an open or closed parenthesis, that is `(`, `)`"
   ]
  },
  {
   "cell_type": "code",
   "execution_count": 46,
   "metadata": {
    "pycharm": {
     "name": "#%%\n"
    }
   },
   "outputs": [
    {
     "name": "stdout",
     "output_type": "stream",
     "text": [
      "----------------------------------------------------------------------------------------------------\n",
      "data/2015/input1.txt ➜ 7000 chars, 1 lines; first 1 lines:\n",
      "----------------------------------------------------------------------------------------------------\n",
      "(((())))()((((((((())()(()))(()((((()(()(((()((()((()(()()()()()))(((( ... (()))()((((()((()(()()()(\n",
      "----------------------------------------------------------------------------------------------------\n",
      "parse(1) ➜ 1 entries:\n",
      "----------------------------------------------------------------------------------------------------\n",
      "(('(', '(', '(', '(', ')', ')', ')', ')', '(', ')', '(', '(', '(', '(' ... (', ')', '(', ')', '('),)\n",
      "----------------------------------------------------------------------------------------------------\n"
     ]
    }
   ],
   "source": [
    "in1 = first(parse(1, tuple))"
   ]
  },
  {
   "cell_type": "markdown",
   "metadata": {},
   "source": [
    "* **Part 1**: On which floor does santa end on after going up and down the stairs, as dictated by"
   ]
  },
  {
   "cell_type": "code",
   "execution_count": 6,
   "metadata": {
    "pycharm": {
     "name": "#%%\n"
    }
   },
   "outputs": [],
   "source": [
    "stairs = {'(': 1, ')': -1}"
   ]
  },
  {
   "cell_type": "code",
   "execution_count": 7,
   "metadata": {
    "pycharm": {
     "name": "#%%\n"
    }
   },
   "outputs": [
    {
     "data": {
      "text/plain": [
       "True"
      ]
     },
     "execution_count": 7,
     "metadata": {},
     "output_type": "execute_result"
    }
   ],
   "source": [
    "def santa_stairs(steps):\n",
    "    return sum(stairs[s] for s in steps)\n",
    "\n",
    "\n",
    "assert 0 == santa_stairs(\"()()\") == santa_stairs(\"))((\")\n",
    "assert 3 == santa_stairs(\"(()(()(\") == santa_stairs(\"(((\") == santa_stairs(\"))(((((\")\n",
    "assert -1 == santa_stairs(\"())\") == santa_stairs(\"))(\")\n",
    "\n",
    "answer(1.1, santa_stairs(in1), 232)"
   ]
  },
  {
   "cell_type": "markdown",
   "metadata": {},
   "source": [
    "* **Part 2**: When does santa enter the basement, go below the 0*th* floor?"
   ]
  },
  {
   "cell_type": "code",
   "execution_count": 8,
   "metadata": {
    "pycharm": {
     "name": "#%%\n"
    }
   },
   "outputs": [
    {
     "data": {
      "text/plain": [
       "True"
      ]
     },
     "execution_count": 8,
     "metadata": {},
     "output_type": "execute_result"
    }
   ],
   "source": [
    "def when_enter_basement(steps):\n",
    "    current_floor = 0\n",
    "    for i, s in enumerate(steps):\n",
    "        if current_floor < 0:\n",
    "            return i\n",
    "        current_floor += stairs[s]\n",
    "\n",
    "\n",
    "answer(1.2, when_enter_basement(in1), 1783)"
   ]
  },
  {
   "cell_type": "markdown",
   "metadata": {},
   "source": [
    "* **Part 3**: Visualization\n",
    "\n",
    "Let's take a look at how santa progresses..."
   ]
  },
  {
   "cell_type": "code",
   "execution_count": 9,
   "metadata": {
    "pycharm": {
     "name": "#%%\n"
    }
   },
   "outputs": [
    {
     "data": {
      "image/png": "[encoded data removed]",
      "text/plain": [
       "<Figure size 432x288 with 1 Axes>"
      ]
     },
     "metadata": {
      "needs_background": "light"
     },
     "output_type": "display_data"
    }
   ],
   "source": [
    "def floor_plan(steps):\n",
    "    current_floor, floors = 0, []\n",
    "    for i, s in enumerate(steps):\n",
    "        current_floor += stairs[s]\n",
    "        floors.append(current_floor)\n",
    "    return floors\n",
    "\n",
    "\n",
    "plt.plot(floor_plan(in1))\n",
    "plt.ylabel('Floor')\n",
    "plt.xlabel('Timestep');"
   ]
  },
  {
   "cell_type": "markdown",
   "metadata": {
    "pycharm": {
     "name": "#%% md\n"
    }
   },
   "source": [
    "We can also use our `floor_plan` function to solve parts one and two. For **Part 1** we simply take the last element, and for **Part 2** we find the index where the value is negative."
   ]
  },
  {
   "cell_type": "code",
   "execution_count": 10,
   "metadata": {
    "pycharm": {
     "name": "#%%\n"
    }
   },
   "outputs": [
    {
     "data": {
      "text/plain": [
       "True"
      ]
     },
     "execution_count": 10,
     "metadata": {},
     "output_type": "execute_result"
    }
   ],
   "source": [
    "answer(1.1, floor_plan(in1)[-1], 232)"
   ]
  },
  {
   "cell_type": "code",
   "execution_count": 11,
   "metadata": {
    "pycharm": {
     "name": "#%%\n"
    }
   },
   "outputs": [
    {
     "data": {
      "text/plain": [
       "True"
      ]
     },
     "execution_count": 11,
     "metadata": {},
     "output_type": "execute_result"
    }
   ],
   "source": [
    "answer(1.2, 1 + first(step for step, floor in enumerate(floor_plan(in1)) if floor < 0), 1783)"
   ]
  },
  {
   "cell_type": "markdown",
   "metadata": {},
   "source": [
    "# [Day 2](https://adventofcode.com/2015/day/2): I Was Told There Would Be No Math\n",
    "\n",
    "* **Input**: List of the dimensions (length `l`, width `w`, and height `h`) of each present."
   ]
  },
  {
   "cell_type": "code",
   "execution_count": 12,
   "metadata": {
    "pycharm": {
     "name": "#%%\n"
    }
   },
   "outputs": [
    {
     "name": "stdout",
     "output_type": "stream",
     "text": [
      "----------------------------------------------------------------------------------------------------\n",
      "data/2015/input2.txt ➜ 8121 chars, 1000 lines; first 7 lines:\n",
      "----------------------------------------------------------------------------------------------------\n",
      "20x3x11\n",
      "15x27x5\n",
      "6x29x7\n",
      "30x15x9\n",
      "19x29x21\n",
      "10x4x15\n",
      "1x26x4\n",
      "----------------------------------------------------------------------------------------------------\n",
      "parse(2) ➜ 1000 entries:\n",
      "----------------------------------------------------------------------------------------------------\n",
      "((20, 3, 11), (15, 27, 5), (6, 29, 7), (30, 15, 9), (19, 29, 21), (10, ... (21, 2, 22), (14, 12, 8))\n",
      "----------------------------------------------------------------------------------------------------\n"
     ]
    }
   ],
   "source": [
    "in2 = parse(2, ints)"
   ]
  },
  {
   "cell_type": "markdown",
   "metadata": {},
   "source": [
    "* **Part 1**: Calculate the total surface area needed for the packages along with the area of the smallest side."
   ]
  },
  {
   "cell_type": "code",
   "execution_count": 48,
   "metadata": {
    "pycharm": {
     "name": "#%%\n"
    }
   },
   "outputs": [
    {
     "data": {
      "text/plain": "True"
     },
     "execution_count": 48,
     "metadata": {},
     "output_type": "execute_result"
    }
   ],
   "source": [
    "def surface_area_with_slack(dimensions):\n",
    "    l, w, h = sorted(dimensions)\n",
    "    return 2 * l * w + 2 * w * h + 2 * h * l + l * w\n",
    "\n",
    "\n",
    "answer(1.1, sum(map(surface_area_with_slack, in2)), 1606483)"
   ]
  },
  {
   "cell_type": "markdown",
   "metadata": {},
   "source": [
    "* **Part 2**: Calculate the total ribbon required for the packages.\n",
    "\n",
    "The ribbon required to wrap a present is the shortest distance around its sides, or the smallest perimeter of any one face. *Each present also requires a bow made out of ribbon as well; the feet of ribbon required for the perfect bow is equal to the cubic feet of volume of the present. Don't ask how they tie the bow, though; they'll never tell.*"
   ]
  },
  {
   "cell_type": "code",
   "execution_count": 49,
   "metadata": {
    "pycharm": {
     "name": "#%%\n"
    }
   },
   "outputs": [
    {
     "data": {
      "text/plain": "True"
     },
     "execution_count": 49,
     "metadata": {},
     "output_type": "execute_result"
    }
   ],
   "source": [
    "def required_ribbon_and_bow(dimensions):\n",
    "    l, w, h = sorted(dimensions)\n",
    "    return 2 * (l + w) + l * w * h\n",
    "\n",
    "answer(1.2, sum(map(required_ribbon, in2)), 3842356)"
   ]
  },
  {
   "cell_type": "markdown",
   "source": [
    "Here are some assertions I used for testing."
   ],
   "metadata": {
    "collapsed": false,
    "pycharm": {
     "name": "#%% md\n"
    }
   }
  },
  {
   "cell_type": "code",
   "execution_count": 50,
   "outputs": [],
   "source": [
    "assert 43 == surface_area_with_slack((10, 1, 1))\n",
    "assert 34 == required_ribbon_and_bow((2, 3, 4))\n",
    "assert 14 == required_ribbon_and_bow((1, 1, 10))"
   ],
   "metadata": {
    "collapsed": false,
    "pycharm": {
     "name": "#%%\n"
    }
   }
  },
  {
   "cell_type": "markdown",
   "metadata": {},
   "source": [
    "# [Day 3](https://adventofcode.com/2015/day/3): Perfectly Spherical Houses in a Vacuum\n",
    "\n",
    "* **Input**: A single string containing directions on a 2D map."
   ]
  },
  {
   "cell_type": "code",
   "execution_count": 47,
   "metadata": {
    "pycharm": {
     "name": "#%%\n"
    }
   },
   "outputs": [
    {
     "name": "stdout",
     "output_type": "stream",
     "text": [
      "----------------------------------------------------------------------------------------------------\n",
      "data/2015/input3.txt ➜ 8192 chars, 1 lines; first 1 lines:\n",
      "----------------------------------------------------------------------------------------------------\n",
      "v>v<vvv<<vv^v<v>vv>v<<<^^^^^<<^<vv>^>v^>^>^>^>^><vvvv<^>^<<^><<<^vvvv> ... >>^><><>v>>v<>^<v^^><<>>>\n",
      "----------------------------------------------------------------------------------------------------\n",
      "parse(3) ➜ 1 entries:\n",
      "----------------------------------------------------------------------------------------------------\n",
      "('v>v<vvv<<vv^v<v>vv>v<<<^^^^^<<^<vv>^>v^>^>^>^>^><vvvv<^>^<<^><<<^vvv ... ><><>v>>v<>^<v^^><<>>>',)\n",
      "----------------------------------------------------------------------------------------------------\n"
     ]
    }
   ],
   "source": [
    "in3 = first(parse(3))"
   ]
  },
  {
   "cell_type": "markdown",
   "metadata": {},
   "source": [
    "* **Part 1**: How many houses receive at least one present?"
   ]
  },
  {
   "cell_type": "code",
   "execution_count": 16,
   "metadata": {
    "pycharm": {
     "name": "#%%\n"
    }
   },
   "outputs": [
    {
     "data": {
      "text/plain": [
       "True"
      ]
     },
     "execution_count": 16,
     "metadata": {},
     "output_type": "execute_result"
    }
   ],
   "source": [
    "headings = {'>': +1, '<': -1, '^': 1j, 'v': -1j}\n",
    "\n",
    "def unique_houses(directions):\n",
    "    santa, received_present = 0, {0}\n",
    "    for d in directions:\n",
    "        santa += headings[d]\n",
    "        received_present.add(santa)\n",
    "    return len(received_present)\n",
    "\n",
    "answer(3.1, unique_houses(in3), 2572)"
   ]
  },
  {
   "cell_type": "markdown",
   "metadata": {},
   "source": [
    "* **Part 2**: Now santa has received help from his robot friend. The robot takes every second step in the input while santa takes the rest. How many houses receive at least one present now?"
   ]
  },
  {
   "cell_type": "code",
   "execution_count": 17,
   "metadata": {
    "pycharm": {
     "name": "#%%\n"
    }
   },
   "outputs": [
    {
     "data": {
      "text/plain": [
       "True"
      ]
     },
     "execution_count": 17,
     "metadata": {},
     "output_type": "execute_result"
    }
   ],
   "source": [
    "def unique_houses2(directions):\n",
    "    santa, robot, presents = 0, 0, {0}\n",
    "    for s, r in zip(directions[0::2], directions[1::2]):\n",
    "        santa += headings[s]\n",
    "        robot += headings[r]\n",
    "        presents |= {santa, robot}\n",
    "    return len(presents)\n",
    "\n",
    "\n",
    "answer(3.1, unique_houses2(in3), 2631)"
   ]
  },
  {
   "cell_type": "markdown",
   "source": [
    "Here are some assertions I used for testing."
   ],
   "metadata": {
    "collapsed": false
   }
  },
  {
   "cell_type": "code",
   "execution_count": null,
   "outputs": [],
   "source": [
    "assert 2 == unique_houses('>')\n",
    "assert 4 == unique_houses('^>v<')\n",
    "assert 2 == unique_houses('^v^v^v^v^v')\n",
    "\n",
    "assert 3 == unique_houses2('^v')\n",
    "assert 3 == unique_houses2('^>v<')\n",
    "assert 11 == unique_houses2('^v^v^v^v^v')"
   ],
   "metadata": {
    "collapsed": false,
    "pycharm": {
     "name": "#%%\n"
    }
   }
  },
  {
   "cell_type": "markdown",
   "metadata": {},
   "source": [
    "# [Day 4](https://adventofcode.com/2015/day/4): The Ideal Stocking Stuffer\n",
    "\n",
    "* **Input**: Secret key that we need to crack."
   ]
  },
  {
   "cell_type": "code",
   "execution_count": 18,
   "metadata": {
    "pycharm": {
     "name": "#%%\n"
    }
   },
   "outputs": [
    {
     "name": "stdout",
     "output_type": "stream",
     "text": [
      "----------------------------------------------------------------------------------------------------\n",
      "data/2015/input4.txt ➜ 9 chars, 1 lines; first 1 lines:\n",
      "----------------------------------------------------------------------------------------------------\n",
      "yzbqklnj\n",
      "----------------------------------------------------------------------------------------------------\n",
      "parse(4) ➜ 1 entries:\n",
      "----------------------------------------------------------------------------------------------------\n",
      "('yzbqklnj',)\n",
      "----------------------------------------------------------------------------------------------------\n"
     ]
    }
   ],
   "source": [
    "in4 = first(parse(4))"
   ]
  },
  {
   "cell_type": "markdown",
   "metadata": {},
   "source": [
    "* **Part 1**: A single string, that is the secret key we have to *crack*, that is find a hexadecimal MD5 hash that starts with at least five zeroes."
   ]
  },
  {
   "cell_type": "code",
   "execution_count": 19,
   "metadata": {
    "pycharm": {
     "name": "#%%\n"
    }
   },
   "outputs": [
    {
     "data": {
      "text/plain": [
       "True"
      ]
     },
     "execution_count": 19,
     "metadata": {},
     "output_type": "execute_result"
    }
   ],
   "source": [
    "def crack_secret_key(key, zeros=5):\n",
    "    for num in range(10_000_000):\n",
    "        hashed = md5(f'{key}{num}'.encode()).hexdigest()\n",
    "        if hashed[:zeros] == '0' * zeros:\n",
    "            return num\n",
    "\n",
    "\n",
    "answer(4.1, crack_secret_key(in4), 282_749)"
   ]
  },
  {
   "cell_type": "markdown",
   "metadata": {},
   "source": [
    "* **Part 2**: Find a hexadecimal MD5 hash that starts with at least **six** zeroes."
   ]
  },
  {
   "cell_type": "code",
   "execution_count": null,
   "metadata": {
    "pycharm": {
     "name": "#%%\n"
    }
   },
   "outputs": [],
   "source": [
    "answer(4.2, crack_secret_key(in4, zeros=6), 9_962_624)"
   ]
  },
  {
   "cell_type": "markdown",
   "source": [
    "Some tests."
   ],
   "metadata": {
    "collapsed": false,
    "pycharm": {
     "name": "#%% md\n"
    }
   }
  },
  {
   "cell_type": "code",
   "source": [
    "assert 609_043 == crack_secret_key('abcdef')\n",
    "assert 1_048_970 == crack_secret_key('pqrstuv')\n"
   ],
   "metadata": {
    "collapsed": false,
    "pycharm": {
     "name": "#%%\n"
    }
   },
   "execution_count": null,
   "outputs": []
  },
  {
   "cell_type": "markdown",
   "metadata": {},
   "source": [
    "# [Day 5](https://adventofcode.com/2015/day/5): Doesn't He Have Intern-Elves For This?"
   ]
  },
  {
   "cell_type": "markdown",
   "metadata": {},
   "source": [
    "* **Input**: A list of strings."
   ]
  },
  {
   "cell_type": "code",
   "execution_count": null,
   "metadata": {
    "pycharm": {
     "name": "#%%\n"
    }
   },
   "outputs": [],
   "source": [
    "in5 = parse(5)"
   ]
  },
  {
   "cell_type": "markdown",
   "metadata": {},
   "source": [
    "* **Part 1**: Determine how many strings are **nice**:\n",
    "    - It contains at least three vowels (`aeiou` only), like `aei`, `xazegov`, or `aeiouaeiouaeiou`.\n",
    "    - It contains at least one letter that appears twice in a row, like `xx`, `abcdde` (`dd`), or `aabbccdd` (`aa`, `bb`, `cc`, or `dd`).\n",
    "    - It does not contain the strings `ab`, `cd`, `pq`, or `xy`, even if they are part of one of the other requirements."
   ]
  },
  {
   "cell_type": "code",
   "execution_count": null,
   "metadata": {
    "pycharm": {
     "name": "#%%\n"
    }
   },
   "outputs": [],
   "source": [
    "def is_nice(string):\n",
    "    return any(s1 == s2 for s1, s2 in zip(string[:-1], string[1:])) and \\\n",
    "           quantify(s in 'aeiou' for s in string) >= 3 and \\\n",
    "           not any(s in string for s in ('ab', 'cd', 'pq', 'xy'))\n",
    "\n",
    "\n",
    "answer(5.1, quantify(map(is_nice, in5)), 236)"
   ]
  },
  {
   "cell_type": "markdown",
   "metadata": {},
   "source": [
    "* **Part 2**: The definition of a **nice** string has changed:\n",
    "    - It contains a pair of any two letters that appears at least twice in the string without overlapping, like `xyxy` (`xy`) or `aabcdefgaa` (`aa`), but not like `aaa` (`aa`, but it overlaps).\n",
    "    - It contains at least one letter which repeats with exactly one letter between them, like `xyx`, `abcdefeghi` (`efe`), or even `aaa`."
   ]
  },
  {
   "cell_type": "code",
   "execution_count": null,
   "metadata": {
    "pycharm": {
     "name": "#%%\n"
    }
   },
   "outputs": [],
   "source": [
    "def is_nice2(string):\n",
    "    return any(string[i:i + 2] in string[i + 2:] for i in range(len(string) - 3)) and \\\n",
    "           any(a == c for a, c in zip(string, string[2:]))\n",
    "\n",
    "\n",
    "answer(5.2, quantify(map(is_nice2, in5)), 51)"
   ]
  },
  {
   "cell_type": "markdown",
   "source": [
    "Some assertions.."
   ],
   "metadata": {
    "collapsed": false,
    "pycharm": {
     "name": "#%% md\n"
    }
   }
  },
  {
   "cell_type": "code",
   "execution_count": null,
   "outputs": [],
   "source": [
    "assert True == all(is_nice(s) for s in ('ugknbfddgicrmopn', 'aaa'))\n",
    "assert False == any(is_nice(s) for s in ('jchzalrnumimnmhp', 'haegwjzuvuyypxyu', 'dvszwmarrgswjxmb'))\n",
    "\n",
    "assert True  == all(is_nice2(s) for s in ('qjhvhtzxzqqjkmpb', 'xxyxx'))\n",
    "assert False == any(is_nice2(s) for s in ('uurcxstgmygtbstg', 'ieodomkazucvgmuy', 'ugknbfddgicrmopn', 'aaa',\n",
    "                                          'jchzalrnumimnmhp', 'haegwjzuvuyypxyu', 'dvszwmarrgswjxmb'))\n"
   ],
   "metadata": {
    "collapsed": false,
    "pycharm": {
     "name": "#%%\n"
    }
   }
  },
  {
   "cell_type": "markdown",
   "metadata": {},
   "source": [
    "# [Day 6](https://adventofcode.com/2015/day/6): Probably a Fire Hazard\n",
    "\n",
    "* **Input**: List of instructions like *turn on*, *turn off* and *toggle* to be executed on a 1000x1000 grid of lights."
   ]
  },
  {
   "cell_type": "code",
   "execution_count": 53,
   "metadata": {
    "pycharm": {
     "name": "#%%\n"
    }
   },
   "outputs": [
    {
     "name": "stdout",
     "output_type": "stream",
     "text": [
      "----------------------------------------------------------------------------------------------------\n",
      "data/2015/input6.txt ➜ 9531 chars, 300 lines; first 7 lines:\n",
      "----------------------------------------------------------------------------------------------------\n",
      "turn on 887,9 through 959,629\n",
      "turn on 454,398 through 844,448\n",
      "turn off 539,243 through 559,965\n",
      "turn off 370,819 through 676,868\n",
      "turn off 145,40 through 370,997\n",
      "turn off 301,3 through 808,453\n",
      "turn on 351,678 through 951,908\n",
      "----------------------------------------------------------------------------------------------------\n",
      "parse(6) ➜ 300 entries:\n",
      "----------------------------------------------------------------------------------------------------\n",
      "(('on', 887, 9, 959, 629), ('on', 454, 398, 844, 448), ('off', 539, 24 ... ff', 102, 229, 674, 529))\n",
      "----------------------------------------------------------------------------------------------------\n"
     ]
    }
   ],
   "source": [
    "def parse_lights(line):\n",
    "    return tuple(elem for elem in atoms(line) if elem not in ('turn', 'through'))\n",
    "\n",
    "in6 = parse(6, parse_lights)"
   ]
  },
  {
   "cell_type": "markdown",
   "metadata": {},
   "source": [
    "* **Part 1**: How many lights are lit after running the instructions?"
   ]
  },
  {
   "cell_type": "code",
   "execution_count": 54,
   "metadata": {
    "pycharm": {
     "name": "#%%\n"
    }
   },
   "outputs": [
    {
     "data": {
      "text/plain": "True"
     },
     "execution_count": 54,
     "metadata": {},
     "output_type": "execute_result"
    }
   ],
   "source": [
    "def execute(instructions, ops, grid=1000):\n",
    "    lights = [[False] * grid for _ in range(grid)]\n",
    "    for op, x0, y0, x1, y1 in instructions:\n",
    "        for x, y in ((x, y) for x in range(x0, x1 + 1) for y in range(y0, y1 + 1)):\n",
    "            lights[x][y] = ops[op](lights[x][y])\n",
    "    return sum(flatten(lights))\n",
    "\n",
    "\n",
    "fuel_needed = {\n",
    "    'toggle': lambda x: int(not x == 1),\n",
    "    'on': lambda _: 1,\n",
    "    'off': lambda _: 0,\n",
    "}\n",
    "\n",
    "answer(6.1, execute(in6, fuel_needed), 377_891)"
   ]
  },
  {
   "cell_type": "markdown",
   "metadata": {},
   "source": [
    "* **Part 2**: Meaning of *turn on/off* and *toggle* changed to mean *brightness* instead of discrete values. How many lights are now lit?"
   ]
  },
  {
   "cell_type": "code",
   "execution_count": null,
   "metadata": {
    "pycharm": {
     "name": "#%%\n"
    }
   },
   "outputs": [],
   "source": [
    "fuel_needed2 = {\n",
    "    'toggle': lambda x: x + 2,\n",
    "    'on': lambda x: x + 1,\n",
    "    'off': lambda x: max(x - 1, 0),\n",
    "}\n",
    "\n",
    "answer(6.2, execute(in6, fuel_needed2), 14_110_788)"
   ]
  },
  {
   "cell_type": "markdown",
   "metadata": {},
   "source": [
    "# [Day 7](https://adventofcode.com/2015/day/7): Some Assembly Required\n",
    "\n",
    "* **Input**: List of connections between bitwise logic gates. I will parse these as a dictionary, with the destination wire as key."
   ]
  },
  {
   "cell_type": "code",
   "execution_count": null,
   "metadata": {
    "pycharm": {
     "name": "#%%\n"
    }
   },
   "outputs": [],
   "source": [
    "def parser(line):\n",
    "    tokens = atoms(line)\n",
    "    return tokens[-1], tokens[:-2]\n",
    "\n",
    "in7 = dict(parse(7, parser))"
   ]
  },
  {
   "cell_type": "markdown",
   "metadata": {
    "pycharm": {
     "name": "#%% md\n"
    }
   },
   "source": [
    "* **Part 1**: We want to find the value on the `a` wire. My strategy was to recursively go through the circuit to try and find an actual `int` value on the wire. We can use memoization on the values that we have already found."
   ]
  },
  {
   "cell_type": "code",
   "execution_count": null,
   "metadata": {
    "pycharm": {
     "name": "#%%\n"
    }
   },
   "outputs": [],
   "source": [
    "@lru_cache()\n",
    "def get_value(key):\n",
    "    try:\n",
    "        return int(key)\n",
    "    except ValueError:\n",
    "        pass\n",
    "\n",
    "    cmd = in7[key]\n",
    "\n",
    "    if \"NOT\" in cmd:\n",
    "        return ~get_value(cmd[1])\n",
    "    elif \"AND\" in cmd:\n",
    "        return get_value(cmd[0]) & get_value(cmd[2])\n",
    "    elif \"OR\" in cmd:\n",
    "        return get_value(cmd[0]) | get_value(cmd[2])\n",
    "    elif \"LSHIFT\" in cmd:\n",
    "        return get_value(cmd[0]) << get_value(cmd[2])\n",
    "    elif \"RSHIFT\" in cmd:\n",
    "        return get_value(cmd[0]) >> get_value(cmd[2])\n",
    "    else:\n",
    "        return get_value(cmd[0])\n",
    "\n",
    "\n",
    "answer(7.1, get_value('a'), 16076)"
   ]
  },
  {
   "cell_type": "markdown",
   "metadata": {},
   "source": [
    "* **Part 2**: Now, take the signal you got on wire `a`, override wire `b` to that signal, and reset the other wires (including wire `a`). What new signal is ultimately provided to wire `a`?"
   ]
  },
  {
   "cell_type": "code",
   "execution_count": null,
   "metadata": {
    "pycharm": {
     "name": "#%%\n"
    }
   },
   "outputs": [],
   "source": [
    "in7['b'] = str(get_value('a'))\n",
    "get_value.cache_clear()\n",
    "answer(7.2, get_value('a'), 32790)"
   ]
  },
  {
   "cell_type": "markdown",
   "metadata": {},
   "source": [
    "# [Day 8](https://adventofcode.com/2015/day/8): Matchsticks"
   ]
  },
  {
   "cell_type": "markdown",
   "metadata": {},
   "source": [
    "* **Input**: List of strings with escape special characters."
   ]
  },
  {
   "cell_type": "code",
   "execution_count": null,
   "metadata": {
    "pycharm": {
     "name": "#%%\n"
    }
   },
   "outputs": [],
   "source": [
    "in8 = parse(8)"
   ]
  },
  {
   "cell_type": "markdown",
   "metadata": {},
   "source": [
    "* **Part 1**: What is the number of characters of code for string literals minus the number of characters in memory for the values of the strings.We can get the first one by finding the `len` of each line and the second by using [`eval`](https://docs.python.org/3/library/functions.html#eval) to *remove* the escaped strings."
   ]
  },
  {
   "cell_type": "code",
   "execution_count": null,
   "metadata": {
    "pycharm": {
     "name": "#%%\n"
    }
   },
   "outputs": [],
   "source": [
    "answer(8.1, sum(len(line) - len(eval(line)) for line in in8), 1333)"
   ]
  },
  {
   "cell_type": "markdown",
   "metadata": {},
   "source": [
    "* **Part 2**: Here we need to go the over way round, namely find the total number of characters to represent the newly encoded strings minus the number of characters of code in each original string literal. Here we can realize that the difference are two `\\` at the beginning of the string, and we need `\\` for each `\"` and `\\` we find too."
   ]
  },
  {
   "cell_type": "code",
   "execution_count": null,
   "metadata": {
    "pycharm": {
     "name": "#%%\n"
    }
   },
   "outputs": [],
   "source": [
    "answer(8.1, sum(line.count('\"') + line.count('\\\\') + 2 for line in in8), 2046)"
   ]
  },
  {
   "cell_type": "markdown",
   "source": [
    "Some assertions for testing out `eval`."
   ],
   "metadata": {
    "collapsed": false,
    "pycharm": {
     "name": "#%% md\n"
    }
   }
  },
  {
   "cell_type": "code",
   "source": [
    "assert len(eval('\"\"')) == 0\n",
    "assert len(eval('\"abc\"')) == 3\n",
    "assert len(eval('\"\\x27\"')) == 1"
   ],
   "metadata": {
    "collapsed": false,
    "pycharm": {
     "name": "#%%\n"
    }
   },
   "execution_count": 59,
   "outputs": []
  },
  {
   "cell_type": "markdown",
   "metadata": {},
   "source": [
    "# [Day 9](https://adventofcode.com/2015/day/9): All in a Single Night\n",
    "\n",
    "* **Input**: List of distances between a pair of cities. We will store these in a `multidict` where the distance is stored for both cities."
   ]
  },
  {
   "cell_type": "code",
   "execution_count": 60,
   "metadata": {
    "pycharm": {
     "name": "#%%\n"
    }
   },
   "outputs": [
    {
     "name": "stdout",
     "output_type": "stream",
     "text": [
      "----------------------------------------------------------------------------------------------------\n",
      "data/2015/input9.txt ➜ 715 chars, 28 lines; first 7 lines:\n",
      "----------------------------------------------------------------------------------------------------\n",
      "Faerun to Norrath = 129\n",
      "Faerun to Tristram = 58\n",
      "Faerun to AlphaCentauri = 13\n",
      "Faerun to Arbre = 24\n",
      "Faerun to Snowdin = 60\n",
      "Faerun to Tambi = 71\n",
      "Faerun to Straylight = 67\n",
      "----------------------------------------------------------------------------------------------------\n",
      "parse(9) ➜ 28 entries:\n",
      "----------------------------------------------------------------------------------------------------\n",
      "(('Faerun', 'Norrath', 129), ('Faerun', 'Tristram', 58), ('Faerun', 'A ... ambi', 'Straylight', 70))\n",
      "----------------------------------------------------------------------------------------------------\n"
     ]
    }
   ],
   "source": [
    "def parse_path(line):\n",
    "    city1, _, city2, distance = atoms(line)\n",
    "    return city1, city2, distance\n",
    "\n",
    "def multidict2(items):\n",
    "    \"\"\"Given (key1, key2, val) pairs, return {key1: {key2: val, ...}, key2: {key1: val, ...} ...}.\"\"\"\n",
    "    result = defaultdict(lambda: defaultdict(lambda: 0))\n",
    "    for a, b, val in items:\n",
    "        result[a][b] = result[b][a] = val\n",
    "    return result\n",
    "\n",
    "in9 = distances = multidict2(parse(9, parse_path))"
   ]
  },
  {
   "cell_type": "markdown",
   "metadata": {},
   "source": [
    "* **Part 1**: We are asked to find the shortest distance between all cities. This is an example of a [travelling salesman problem](https://en.wikipedia.org/wiki/Travelling_salesman_problem). Fortunately we only have eight cities so we can just try all possibilities."
   ]
  },
  {
   "cell_type": "code",
   "execution_count": 61,
   "metadata": {
    "pycharm": {
     "name": "#%%\n"
    }
   },
   "outputs": [],
   "source": [
    "def all_paths(distances):\n",
    "    return (sum(distances[p1][p2] for p1, p2 in zip(p[:-1], p[1:])) for p in permutations(distances.keys()))"
   ]
  },
  {
   "cell_type": "code",
   "execution_count": 62,
   "metadata": {
    "pycharm": {
     "name": "#%%\n"
    }
   },
   "outputs": [
    {
     "data": {
      "text/plain": "True"
     },
     "execution_count": 62,
     "metadata": {},
     "output_type": "execute_result"
    }
   ],
   "source": [
    "answer(9.1, min(all_paths(in9)), 207)"
   ]
  },
  {
   "cell_type": "markdown",
   "metadata": {},
   "source": [
    "* **Part 2**: What is the longest path?"
   ]
  },
  {
   "cell_type": "code",
   "execution_count": 63,
   "metadata": {
    "pycharm": {
     "name": "#%%\n"
    }
   },
   "outputs": [
    {
     "data": {
      "text/plain": "True"
     },
     "execution_count": 63,
     "metadata": {},
     "output_type": "execute_result"
    }
   ],
   "source": [
    "answer(9.2, max(all_paths(in9)), 804)"
   ]
  },
  {
   "cell_type": "markdown",
   "metadata": {},
   "source": [
    "# [Day 10](https://adventofcode.com/2015/day/10): Elves Look, Elves Say\n",
    "\n",
    "* **Input**: A string that is the beginning of a [look-and-say](https://en.wikipedia.org/wiki/Look-and-say_sequence) sequence."
   ]
  },
  {
   "cell_type": "code",
   "execution_count": null,
   "metadata": {
    "pycharm": {
     "name": "#%%\n"
    }
   },
   "outputs": [],
   "source": [
    "in10 = first(parse(10))"
   ]
  },
  {
   "cell_type": "markdown",
   "metadata": {
    "pycharm": {
     "name": "#%% md\n"
    }
   },
   "source": [
    "* **Part 1**: What is the length of a sequence after applying the *look-and-say* process 40 times?"
   ]
  },
  {
   "cell_type": "code",
   "execution_count": null,
   "metadata": {
    "pycharm": {
     "name": "#%%\n"
    }
   },
   "outputs": [],
   "source": [
    "def repeat_and_say(word):\n",
    "    return cat(f'{quantify(count)}{letter}' for letter, count in groupby(word))\n",
    "\n",
    "\n",
    "answer(10.1, len(n_times(repeat_and_say, 40, in10)), 252_594)"
   ]
  },
  {
   "cell_type": "markdown",
   "metadata": {
    "pycharm": {
     "name": "#%% md\n"
    }
   },
   "source": [
    "* **Part 2**: What about 50 times?"
   ]
  },
  {
   "cell_type": "code",
   "execution_count": null,
   "metadata": {
    "pycharm": {
     "name": "#%%\n"
    }
   },
   "outputs": [],
   "source": [
    "answer(10.2, len(n_times(repeat_and_say, 50, in10)), 3_579_328)"
   ]
  },
  {
   "cell_type": "markdown",
   "metadata": {},
   "source": [
    "# [Day 11](https://adventofcode.com/2015/day/11): Corporate Policy\n",
    "\n",
    "* **Input**: Santa's old password (string)"
   ]
  },
  {
   "cell_type": "code",
   "execution_count": null,
   "metadata": {
    "pycharm": {
     "name": "#%%\n"
    }
   },
   "outputs": [],
   "source": [
    "in11 = first(parse(11))"
   ]
  },
  {
   "cell_type": "markdown",
   "metadata": {},
   "source": [
    "* **Part 1**: We want to find a new password for santa. he finds his new password by incrementing his old password string repeatedly until it is valid. The new password should meet the following criteria:\n",
    "   - Passwords must include one increasing straight of at least three letters, like `abc`, `bcd`, `cde`, and so on, up to `xyz`. They cannot skip letters; `abd` doesn't count.\n",
    "   - Passwords may not contain the letters `i`, `o`, or `l`, as these letters can be mistaken for other characters and are therefore confusing.\n",
    "   - Passwords must contain at least two different, non-overlapping pairs of letters, like `aa`, `bb`, or `zz`.\n",
    "- We need to use built-in functions [`ord`](https://docs.python.org/3/library/functions.html#ord) and [`chr`](https://docs.python.org/3/library/functions.html#chr) for the position of the letters.\n"
   ]
  },
  {
   "cell_type": "code",
   "execution_count": null,
   "metadata": {
    "pycharm": {
     "name": "#%%\n"
    }
   },
   "outputs": [],
   "source": [
    "@lru_cache()\n",
    "def is_valid(password):\n",
    "    num = mapt(ord, password)\n",
    "    has_increasing_subsequence = any(num[i] + 2 == num[i + 1] + 1 == num[i + 2] for i in range(len(num) - 2))\n",
    "    does_not_contain_iol = not any(c in password for c in 'iol')\n",
    "    has_two_diff_pairs = len(set(re.findall(r'(.)\\1', password))) >= 2\n",
    "    return has_increasing_subsequence and does_not_contain_iol and has_two_diff_pairs\n",
    "\n",
    "\n",
    "@lru_cache()\n",
    "def increment(password):\n",
    "    numeric, index = list(map(ord, password)), -1\n",
    "    while True:\n",
    "        numeric[index] += 1\n",
    "        if numeric[index] <= ord('z'):\n",
    "            break\n",
    "        else:\n",
    "            numeric[index] = ord('a')\n",
    "            index -= 1\n",
    "    return cat(map(chr, numeric))\n",
    "\n",
    "\n",
    "def next_valid(pw):\n",
    "    return first(pw for _ in repeat(0) if is_valid(pw := increment(pw)))\n",
    "\n",
    "\n",
    "answer(11.1, next_valid(in11), 'vzbxxyzz')"
   ]
  },
  {
   "cell_type": "markdown",
   "metadata": {},
   "source": [
    "* **Part 2**: Santa's password expired again. What's the next one?"
   ]
  },
  {
   "cell_type": "code",
   "execution_count": null,
   "metadata": {
    "pycharm": {
     "name": "#%%\n"
    }
   },
   "outputs": [],
   "source": [
    "answer(11.2, n_times(next_valid, in11, 2), 'vzcaabcc')"
   ]
  },
  {
   "cell_type": "markdown",
   "metadata": {},
   "source": [
    "# [Day 12](https://adventofcode.com/2015/day/12): JSAbacusFramework.io\n",
    "\n",
    "* **Input**: String in the form of a `JSON`. I will use the built-in function [`json.loads`](https://docs.python.org/3/library/json.html) to decode the string into a `JSON` data structure."
   ]
  },
  {
   "cell_type": "code",
   "execution_count": null,
   "metadata": {
    "pycharm": {
     "name": "#%%\n"
    }
   },
   "outputs": [],
   "source": [
    "in12 = json.loads(first(parse(12)))"
   ]
  },
  {
   "cell_type": "markdown",
   "source": [
    "* **Part 1**: Sum all the numbers in the `JSON` object."
   ],
   "metadata": {
    "collapsed": false,
    "pycharm": {
     "name": "#%% md\n"
    }
   }
  },
  {
   "cell_type": "code",
   "execution_count": null,
   "metadata": {
    "pycharm": {
     "name": "#%%\n"
    }
   },
   "outputs": [],
   "source": [
    "def sum_numbers(js):\n",
    "    return sum(map(sum_numbers, js.values()) if isinstance(js, dict) else\n",
    "               map(sum_numbers, js) if isinstance(js, list) else\n",
    "               (js,) if isinstance(js, int) else (0,))\n",
    "\n",
    "\n",
    "answer(12.1, sum_numbers(in12), 156_366)"
   ]
  },
  {
   "cell_type": "markdown",
   "metadata": {},
   "source": [
    "* **Part 2**: Sum all the numbers in the `JSON` object, excluding objects where the string \"red\" appears."
   ]
  },
  {
   "cell_type": "code",
   "execution_count": null,
   "metadata": {
    "pycharm": {
     "name": "#%%\n"
    }
   },
   "outputs": [],
   "source": [
    "def sum_numbers2(js):\n",
    "    return sum(map(sum_numbers2, (0,) if 'red' in js.values() else js.values()) if isinstance(js, dict) else\n",
    "               map(sum_numbers2, js) if isinstance(js, list) else\n",
    "               (js,) if isinstance(js, int) else (0,))\n",
    "\n",
    "\n",
    "answer(12.2, sum_numbers2(in12), 96_852)"
   ]
  },
  {
   "cell_type": "markdown",
   "metadata": {},
   "source": [
    "# [Day 13](https://adventofcode.com/2015/day/13): Knights of the Dinner Table\n",
    "\n",
    "* **Input**: List of strings containing information about losing/gaining happiness with two people sitting next to each other. I'll parse this into a `multidict`."
   ]
  },
  {
   "cell_type": "code",
   "execution_count": 65,
   "metadata": {
    "pycharm": {
     "name": "#%%\n"
    }
   },
   "outputs": [
    {
     "name": "stdout",
     "output_type": "stream",
     "text": [
      "----------------------------------------------------------------------------------------------------\n",
      "data/2015/input13.txt ➜ 3465 chars, 56 lines; first 7 lines:\n",
      "----------------------------------------------------------------------------------------------------\n",
      "Alice would lose 2 happiness units by sitting next to Bob.\n",
      "Alice would lose 62 happiness units by sitting next to Carol.\n",
      "Alice would gain 65 happiness units by sitting next to David.\n",
      "Alice would gain 21 happiness units by sitting next to Eric.\n",
      "Alice would lose 81 happiness units by sitting next to Frank.\n",
      "Alice would lose 4 happiness units by sitting next to George.\n",
      "Alice would lose 80 happiness units by sitting next to Mallory.\n",
      "----------------------------------------------------------------------------------------------------\n",
      "parse(13) ➜ 56 entries:\n",
      "----------------------------------------------------------------------------------------------------\n",
      "(('Alice', 'Bob', -2), ('Alice', 'Carol', -62), ('Alice', 'David', 65) ... Mallory', 'George', -99))\n",
      "----------------------------------------------------------------------------------------------------\n"
     ]
    }
   ],
   "source": [
    "def parse_happiness(line):\n",
    "    a, gain, amount, b = re.match(r'(\\w+) would (\\w+) (\\d+) happiness units by sitting next to (\\w+).', line).groups()\n",
    "    return a, b, -int(amount) if gain == 'lose' else int(amount)\n",
    "\n",
    "\n",
    "seating = in13 = multidict(parse(13, parse_happiness))"
   ]
  },
  {
   "cell_type": "markdown",
   "metadata": {},
   "source": [
    "* **Part 1**: Find the happiness level.\n"
   ]
  },
  {
   "cell_type": "code",
   "execution_count": 71,
   "metadata": {
    "pycharm": {
     "name": "#%%\n"
    }
   },
   "outputs": [
    {
     "data": {
      "text/plain": "True"
     },
     "execution_count": 71,
     "metadata": {},
     "output_type": "execute_result"
    }
   ],
   "source": [
    "def happiness(order):\n",
    "    return sum(seating[a][b] + seating[b][a] for a, b in zip(order, order[1:] + (order[0],)))\n",
    "\n",
    "\n",
    "answer(13.1, max(happiness(order) for order in permutations(seating.keys())), 664)"
   ]
  },
  {
   "cell_type": "markdown",
   "metadata": {},
   "source": [
    "* **Part 2**: Find the happiness level, with `myself` included."
   ]
  },
  {
   "cell_type": "code",
   "execution_count": 72,
   "metadata": {
    "pycharm": {
     "name": "#%%\n"
    }
   },
   "outputs": [
    {
     "data": {
      "text/plain": "True"
     },
     "execution_count": 72,
     "metadata": {},
     "output_type": "execute_result"
    }
   ],
   "source": [
    "answer(13.1, max(happiness(order) for order in permutations(tuple(seating.keys()) + ('me', ))), 640)"
   ]
  },
  {
   "cell_type": "markdown",
   "metadata": {},
   "source": [
    "# [Day 14](https://adventofcode.com/2015/day/14): Reindeer Olympics\n",
    "\n",
    "* **Input**: List of strings containing reindeer and some stats like their *speed*, *flying* and *resting time*. I'll parse these into a `dict`."
   ]
  },
  {
   "cell_type": "code",
   "execution_count": 74,
   "metadata": {
    "pycharm": {
     "name": "#%%\n"
    }
   },
   "outputs": [
    {
     "name": "stdout",
     "output_type": "stream",
     "text": [
      "----------------------------------------------------------------------------------------------------\n",
      "data/2015/input14.txt ➜ 656 chars, 9 lines; first 7 lines:\n",
      "----------------------------------------------------------------------------------------------------\n",
      "Vixen can fly 8 km/s for 8 seconds, but then must rest for 53 seconds.\n",
      "Blitzen can fly 13 km/s for 4 seconds, but then must rest for 49 seconds.\n",
      "Rudolph can fly 20 km/s for 7 seconds, but then must rest for 132 seconds.\n",
      "Cupid can fly 12 km/s for 4 seconds, but then must rest for 43 seconds.\n",
      "Donner can fly 9 km/s for 5 seconds, but then must rest for 38 seconds.\n",
      "Dasher can fly 10 km/s for 4 seconds, but then must rest for 37 seconds.\n",
      "Comet can fly 3 km/s for 37 seconds, but then must rest for 76 seconds.\n",
      "----------------------------------------------------------------------------------------------------\n",
      "parse(14) ➜ 9 entries:\n",
      "----------------------------------------------------------------------------------------------------\n",
      "(('Vixen', {'speed': 8, 'flying_time': 8, 'resting_time': 53, 'distanc ... 'timer': 1, 'score': 0}))\n",
      "----------------------------------------------------------------------------------------------------\n"
     ]
    }
   ],
   "source": [
    "def parse_reindeer(line):\n",
    "    name, speed, time, _, rest = re.match(r'(\\w+) can fly (\\d+) km/s for (\\d+) (.*) (\\d+) seconds.', line).groups()\n",
    "    return name, {\n",
    "        'speed': int(speed),\n",
    "        'flying_time': int(time),\n",
    "        'resting_time': int(rest),\n",
    "        'distance': 0,\n",
    "        'resting': False,\n",
    "        'timer': int(time),\n",
    "        'score': 0\n",
    "    }\n",
    "\n",
    "\n",
    "in14 = dict(parse(14, parse_reindeer))"
   ]
  },
  {
   "cell_type": "markdown",
   "metadata": {},
   "source": [
    "* **Part 1**: Simulate how the reindeer will progress. Find the maximum distance a single reindeer has travelled."
   ]
  },
  {
   "cell_type": "code",
   "execution_count": 75,
   "metadata": {
    "pycharm": {
     "name": "#%%\n"
    }
   },
   "outputs": [],
   "source": [
    "def simulate(reindeers, simulation_time=2503):\n",
    "    for _ in range(simulation_time):\n",
    "        for reindeer in reindeers.values():\n",
    "            if reindeer['timer'] == 0:\n",
    "                reindeer['resting'] = not reindeer['resting']\n",
    "                reindeer['timer'] = reindeer['resting_time' if reindeer['resting'] else 'flying_time']\n",
    "\n",
    "            reindeer['distance'] += reindeer['speed'] if not reindeer['resting'] else 0\n",
    "            reindeer['timer'] -= 1\n",
    "\n",
    "        for reindeer in reindeers.values():\n",
    "            reindeer['score'] += reindeer['distance'] == max(reindeer['distance'] for reindeer in reindeers.values())\n",
    "\n",
    "    return reindeers\n",
    "\n",
    "\n",
    "reindeers = simulate(in14)"
   ]
  },
  {
   "cell_type": "code",
   "execution_count": 76,
   "metadata": {
    "pycharm": {
     "name": "#%%\n"
    }
   },
   "outputs": [
    {
     "data": {
      "text/plain": "True"
     },
     "execution_count": 76,
     "metadata": {},
     "output_type": "execute_result"
    }
   ],
   "source": [
    "answer(14.1, max(reindeer['distance'] for reindeer in reindeers.values()), 2655)"
   ]
  },
  {
   "cell_type": "markdown",
   "metadata": {},
   "source": [
    "* **Part 2**: Find the maximum total *score*. One point is awarded to the reindeer who has travelled the max distance each step."
   ]
  },
  {
   "cell_type": "code",
   "execution_count": 77,
   "metadata": {
    "pycharm": {
     "name": "#%%\n"
    }
   },
   "outputs": [
    {
     "data": {
      "text/plain": "True"
     },
     "execution_count": 77,
     "metadata": {},
     "output_type": "execute_result"
    }
   ],
   "source": [
    "answer(14.2, max(reindeer['score'] for reindeer in reindeers.values()), 1059)"
   ]
  },
  {
   "cell_type": "markdown",
   "metadata": {},
   "source": [
    "# [Day 15](https://adventofcode.com/2015/day/15): Science for Hungry People\n",
    "\n",
    "* **Input**: List of strings containing information about ingredients like their *name*, *flavor* and *texture*. I'll parse these into a `dict`"
   ]
  },
  {
   "cell_type": "code",
   "execution_count": 81,
   "metadata": {
    "pycharm": {
     "name": "#%%\n"
    }
   },
   "outputs": [
    {
     "name": "stdout",
     "output_type": "stream",
     "text": [
      "----------------------------------------------------------------------------------------------------\n",
      "data/2015/input15.txt ➜ 278 chars, 4 lines; first 4 lines:\n",
      "----------------------------------------------------------------------------------------------------\n",
      "Sprinkles: capacity 5, durability -1, flavor 0, texture 0, calories 5\n",
      "PeanutButter: capacity -1, durability 3, flavor 0, texture 0, calories 1\n",
      "Frosting: capacity 0, durability -1, flavor 4, texture 0, calories 6\n",
      "Sugar: capacity -1, durability 0, flavor 0, texture 2, calories 8\n",
      "----------------------------------------------------------------------------------------------------\n",
      "parse(15) ➜ 4 entries:\n",
      "----------------------------------------------------------------------------------------------------\n",
      "(('Sprinkles', {'capacity': 5, 'durability': -1, 'flavor': 0, 'texture ... ure': 2, 'calories': 8}))\n",
      "----------------------------------------------------------------------------------------------------\n"
     ]
    }
   ],
   "source": [
    "def parse_ingredients(line):\n",
    "    name, _, c, _, d, _, f, _, t, _, cal = atoms(line)\n",
    "    return name, {'capacity': c, 'durability': d, 'flavor': f, 'texture': t, 'calories': cal}\n",
    "\n",
    "\n",
    "ingredients = in15 = dict(parse(15, parse_ingredients))"
   ]
  },
  {
   "cell_type": "markdown",
   "metadata": {},
   "source": [
    "* **Part 1**: Find the best score, namely the one that maximizes the attributes an ingredient has."
   ]
  },
  {
   "cell_type": "code",
   "execution_count": 83,
   "metadata": {
    "pycharm": {
     "name": "#%%\n"
    }
   },
   "outputs": [
    {
     "data": {
      "text/plain": "True"
     },
     "execution_count": 83,
     "metadata": {},
     "output_type": "execute_result"
    }
   ],
   "source": [
    "def cookie(ingredients, max_calories=None):\n",
    "    best_score = 0\n",
    "    for potential_ingredients in combinations_with_replacement(ingredients.values(), 100):\n",
    "        capacity = sum(ingredient['capacity'] for ingredient in potential_ingredients)\n",
    "        durability = sum(ingredient['durability'] for ingredient in potential_ingredients)\n",
    "        flavor = sum(ingredient['flavor'] for ingredient in potential_ingredients)\n",
    "        texture = sum(ingredient['texture'] for ingredient in potential_ingredients)\n",
    "        calories = sum(ingredient['calories'] for ingredient in potential_ingredients)\n",
    "\n",
    "        score = max(0, capacity) * max(0, durability) * max(0, flavor) * max(0, texture)\n",
    "        best_score = max(best_score, score if max_calories is None or calories == max_calories else 0)\n",
    "    return best_score\n",
    "\n",
    "\n",
    "answer(15.1, cookie(ingredients), 13_882_464)"
   ]
  },
  {
   "cell_type": "markdown",
   "metadata": {},
   "source": [
    "* **Part 2**: The number of calories must be 500. Find the best score again."
   ]
  },
  {
   "cell_type": "code",
   "execution_count": null,
   "metadata": {
    "pycharm": {
     "name": "#%%\n"
    }
   },
   "outputs": [],
   "source": [
    "answer(15.2, cookie(ingredients, max_calories=500), 11_171_160)"
   ]
  },
  {
   "cell_type": "markdown",
   "source": [
    "# [Day 16](https://adventofcode.com/2015/day/16): Aunt Sue\n",
    "\n",
    "* **Input**: List of *Sues* with number of gifts. Let's parse these into a `dict` of `dict`."
   ],
   "metadata": {
    "collapsed": false
   }
  },
  {
   "cell_type": "code",
   "execution_count": 87,
   "metadata": {
    "pycharm": {
     "name": "#%%\n"
    }
   },
   "outputs": [
    {
     "name": "stdout",
     "output_type": "stream",
     "text": [
      "----------------------------------------------------------------------------------------------------\n",
      "data/2015/input16.txt ➜ 21573 chars, 500 lines; first 7 lines:\n",
      "----------------------------------------------------------------------------------------------------\n",
      "Sue 1: goldfish: 6, trees: 9, akitas: 0\n",
      "Sue 2: goldfish: 7, trees: 1, akitas: 0\n",
      "Sue 3: cars: 10, akitas: 6, perfumes: 7\n",
      "Sue 4: perfumes: 2, vizslas: 0, cars: 6\n",
      "Sue 5: goldfish: 1, trees: 3, perfumes: 10\n",
      "Sue 6: children: 9, vizslas: 7, cars: 9\n",
      "Sue 7: cars: 6, vizslas: 5, cats: 3\n",
      "----------------------------------------------------------------------------------------------------\n",
      "parse(16) ➜ 500 entries:\n",
      "----------------------------------------------------------------------------------------------------\n",
      "((1, {'goldfish': 6, 'trees': 9, 'akitas': 0}), (2, {'goldfish': 7, 't ...  'cars': 9, 'trees': 4}))\n",
      "----------------------------------------------------------------------------------------------------\n"
     ]
    }
   ],
   "source": [
    "def parse_sue(line):\n",
    "    _, sue, t1, n1, t2, n2, t3, n3 = atoms(line)\n",
    "    return int(sue), {t1: int(n1), t2: int(n2), t3: int(n3)}\n",
    "\n",
    "\n",
    "sues = in16 = dict(parse(16, parse_sue))"
   ]
  },
  {
   "cell_type": "markdown",
   "source": [
    "* **Part 1**: Find the number of the Sue that gave you the presents.\n"
   ],
   "metadata": {
    "collapsed": false,
    "pycharm": {
     "name": "#%% md\n"
    }
   }
  },
  {
   "cell_type": "code",
   "execution_count": 88,
   "metadata": {
    "pycharm": {
     "name": "#%%\n"
    }
   },
   "outputs": [
    {
     "data": {
      "text/plain": "True"
     },
     "execution_count": 88,
     "metadata": {},
     "output_type": "execute_result"
    }
   ],
   "source": [
    "def which_sue(sues):\n",
    "    equals = {'children': 3, 'cats': 7, 'samoyeds': 2, 'pomeranians': 3, 'akitas': 0,\n",
    "              'vizslas': 0, 'goldfish': 5, 'trees': 3, 'cars': 2, 'perfumes': 1}\n",
    "    return first(sue for sue, presents in sues.items()\n",
    "                 if all(item in equals.items() for item in presents.items()))\n",
    "\n",
    "\n",
    "answer(16.2, which_sue(sues), 103)"
   ]
  },
  {
   "cell_type": "markdown",
   "metadata": {},
   "source": [
    "* **Part 2**: Find the number of the Sue that gave you the presents with updated terms."
   ]
  },
  {
   "cell_type": "code",
   "execution_count": 89,
   "metadata": {
    "pycharm": {
     "name": "#%%\n"
    }
   },
   "outputs": [
    {
     "data": {
      "text/plain": "True"
     },
     "execution_count": 89,
     "metadata": {},
     "output_type": "execute_result"
    }
   ],
   "source": [
    "def which_sue2(sues):\n",
    "    equals = {'children': 3, 'samoyeds': 2, 'akitas': 0, 'vizslas': 0, 'cars': 2, 'perfumes': 1}\n",
    "    greater, less = {'trees': 3, 'cats': 7}, {'pomeranians': 3, 'goldfish': 5}\n",
    "    return first(sue for sue, presents in sues.items()\n",
    "                 if all(val > greater[key] if key in greater else\n",
    "                        val < less[key] if key in less else\n",
    "                        val == equals[key]\n",
    "                        for key, val in presents.items()))\n",
    "\n",
    "answer(16.2, which_sue2(sues), 405)"
   ]
  },
  {
   "cell_type": "markdown",
   "metadata": {},
   "source": [
    "# [Day 17](https://adventofcode.com/2015/day/17): No Such Thing as Too Much\n",
    "\n",
    "* **Input**: List of container sizes."
   ]
  },
  {
   "cell_type": "code",
   "execution_count": 92,
   "metadata": {
    "pycharm": {
     "name": "#%%\n"
    }
   },
   "outputs": [
    {
     "name": "stdout",
     "output_type": "stream",
     "text": [
      "----------------------------------------------------------------------------------------------------\n",
      "data/2015/input17.txt ➜ 59 chars, 20 lines; first 7 lines:\n",
      "----------------------------------------------------------------------------------------------------\n",
      "50\n",
      "44\n",
      "11\n",
      "49\n",
      "42\n",
      "46\n",
      "18\n",
      "----------------------------------------------------------------------------------------------------\n",
      "parse(17) ➜ 20 entries:\n",
      "----------------------------------------------------------------------------------------------------\n",
      "(50, 44, 11, 49, 42, 46, 18, 32, 26, 40, 21, 7, 18, 43, 10, 47, 36, 24, 22, 40)\n",
      "----------------------------------------------------------------------------------------------------\n"
     ]
    }
   ],
   "source": [
    "containers = in17 = parse(17, int)"
   ]
  },
  {
   "cell_type": "markdown",
   "metadata": {},
   "source": [
    "* **Part 1**: How many combinations of containers can exactly fit all 150 liters of eggnog."
   ]
  },
  {
   "cell_type": "code",
   "execution_count": 104,
   "metadata": {
    "pycharm": {
     "name": "#%%\n"
    }
   },
   "outputs": [
    {
     "data": {
      "text/plain": "True"
     },
     "execution_count": 104,
     "metadata": {},
     "output_type": "execute_result"
    }
   ],
   "source": [
    "def combinations_of(containers, total=150):\n",
    "    return (y for x in range(len(containers))\n",
    "              for y in combinations(containers, x)\n",
    "              if sum(y) == total)\n",
    "\n",
    "\n",
    "answer(17.1, quantify(combinations_of(containers)), 654)"
   ]
  },
  {
   "cell_type": "markdown",
   "metadata": {},
   "source": [
    "* **Part 2**: We want to find the minimum number of containers that can exactly fit all 150 liters of eggnog. How many ways can you fill that number of containers and still hold exactly 150 litres?"
   ]
  },
  {
   "cell_type": "code",
   "execution_count": 105,
   "metadata": {
    "pycharm": {
     "name": "#%%\n"
    }
   },
   "outputs": [
    {
     "data": {
      "text/plain": "True"
     },
     "execution_count": 105,
     "metadata": {},
     "output_type": "execute_result"
    }
   ],
   "source": [
    "min_len = min(map(len, combinations_of(containers)))\n",
    "answer(17.2, quantify(combinations_of(containers), lambda comb: min_len == len(comb)), 57)"
   ]
  },
  {
   "cell_type": "markdown",
   "metadata": {},
   "source": [
    "# [Day 18](https://adventofcode.com/2015/day/18): Like a GIF For Your Yard\n",
    "\n",
    "* **Input**: 100x100 grid of lights where a `#` means \"on\", and a `.` means \"off\". I'll parse those into a set containing lights that are lit."
   ]
  },
  {
   "cell_type": "code",
   "execution_count": 106,
   "metadata": {
    "pycharm": {
     "name": "#%%\n"
    }
   },
   "outputs": [],
   "source": [
    "with open('data/2015/input18.txt') as f:\n",
    "    lights = in18 = {(x, y) for y, line in enumerate(f) for x, char in enumerate(line) if char == '#'}\n"
   ]
  },
  {
   "cell_type": "markdown",
   "metadata": {},
   "source": [
    "* **Part 1**: This is [Conway's Game of Life](https://en.wikipedia.org/wiki/Conway%27s_Game_of_Life) in disguise. All we need to do is run the simulation 100 times."
   ]
  },
  {
   "cell_type": "code",
   "execution_count": 107,
   "metadata": {
    "pycharm": {
     "name": "#%%\n"
    }
   },
   "outputs": [],
   "source": [
    "def run_lights(lights, corners, steps=100, size=100):\n",
    "    for _ in range(steps):\n",
    "        lights = corners | lights\n",
    "        lights = {(x, y) for x in range(size) for y in range(size)\n",
    "                         if (x, y) in lights and 2 <= neighbours(lights, x, y) <= 3\n",
    "                         or (x, y) not in lights and neighbours(lights, x, y) == 3}\n",
    "    return lights\n",
    "\n",
    "\n",
    "def neighbours(lights, x, y):\n",
    "    return sum((xx, yy) in lights\n",
    "               for xx in (x - 1, x, x + 1)\n",
    "               for yy in (y - 1, y, y + 1)\n",
    "               if (xx, yy) != (x, y))"
   ]
  },
  {
   "cell_type": "code",
   "execution_count": 108,
   "metadata": {
    "pycharm": {
     "name": "#%%\n"
    }
   },
   "outputs": [
    {
     "data": {
      "text/plain": "True"
     },
     "execution_count": 108,
     "metadata": {},
     "output_type": "execute_result"
    }
   ],
   "source": [
    "answer(18.1, len(run_lights(lights, corners=set())), 821)"
   ]
  },
  {
   "cell_type": "markdown",
   "metadata": {},
   "source": [
    "* **Part 2**: Now we add corners that are **always lit**."
   ]
  },
  {
   "cell_type": "code",
   "execution_count": null,
   "metadata": {
    "pycharm": {
     "name": "#%%\n"
    }
   },
   "outputs": [],
   "source": [
    "answer(18.2, len(run_lights(lights, corners={(0, 0), (0, 99), (99, 0), (99, 99)})), 886)"
   ]
  },
  {
   "cell_type": "markdown",
   "metadata": {},
   "source": [
    "# [Day 19](https://adventofcode.com/2015/day/19): Medicine for Rudolph\n",
    "\n",
    "* **Input**: List of replacements separated by a single new line. Followed by two new lines and a molecule. I'll parse the replacements into a `multimap`."
   ]
  },
  {
   "cell_type": "code",
   "execution_count": 135,
   "metadata": {
    "pycharm": {
     "name": "#%%\n"
    }
   },
   "outputs": [
    {
     "name": "stdout",
     "output_type": "stream",
     "text": [
      "----------------------------------------------------------------------------------------------------\n",
      "data/2015/input19.txt ➜ 986 chars, 45 lines; first 7 lines:\n",
      "----------------------------------------------------------------------------------------------------\n",
      "Al => ThF\n",
      "Al => ThRnFAr\n",
      "B => BCa\n",
      "B => TiB\n",
      "B => TiRnFAr\n",
      "Ca => CaCa\n",
      "Ca => PB\n",
      "----------------------------------------------------------------------------------------------------\n",
      "parse(19) ➜ 2 entries:\n",
      "----------------------------------------------------------------------------------------------------\n",
      "('Al => ThF\\nAl => ThRnFAr\\nB => BCa\\nB => TiB\\nB => TiRnFAr\\nCa => Ca ... aCaFArSiRnFArTiRnPMgArF')\n",
      "----------------------------------------------------------------------------------------------------\n"
     ]
    }
   ],
   "source": [
    "def parse_replacements(line):\n",
    "    return re.match(r'(\\w+) => (\\w+)', line).groups()\n",
    "\n",
    "\n",
    "transactions, molecule = parse(19, sep='\\n\\n')\n",
    "org_transactions = multimap(map(parse_replacements, transactions.split('\\n')))"
   ]
  },
  {
   "cell_type": "markdown",
   "metadata": {},
   "source": [
    "* **Part 1**: How many distinct molecules can be created after all the different ways you can do one replacement on the medicine molecule? Create a set with all possible replacements and find its length."
   ]
  },
  {
   "cell_type": "code",
   "execution_count": 136,
   "metadata": {
    "pycharm": {
     "name": "#%%\n"
    }
   },
   "outputs": [
    {
     "data": {
      "text/plain": "True"
     },
     "execution_count": 136,
     "metadata": {},
     "output_type": "execute_result"
    }
   ],
   "source": [
    "def expand(molecule, transitions):\n",
    "    return {molecule[:match.start()] + dst + molecule[match.end():]\n",
    "            for src in transitions\n",
    "            for dst in transitions[src]\n",
    "            for match in re.finditer(src, molecule)}\n",
    "\n",
    "answer(19.1, len(expand(molecule, org_transactions)), 576)"
   ]
  },
  {
   "cell_type": "markdown",
   "metadata": {},
   "source": [
    "* **Part 2**: Because there are so many possibilities we need a different approach here. I tried reversing the problem. Taking the shortest replacements possible, reversing the molecule and doing replacements until there were none left. To my amazement that worked!"
   ]
  },
  {
   "cell_type": "code",
   "execution_count": 155,
   "metadata": {
    "pycharm": {
     "name": "#%%\n"
    }
   },
   "outputs": [
    {
     "data": {
      "text/plain": "{'FhT': 'lA',\n 'rAFnRhT': 'lA',\n 'aCB': 'B',\n 'BiT': 'B',\n 'rAFnRiT': 'B',\n 'aCaC': 'aC',\n 'BP': 'aC',\n 'rAFnRP': 'aC',\n 'rAFYFnRiS': 'aC',\n 'rAgMnRiS': 'aC',\n 'hTiS': 'aC',\n 'FaC': 'F',\n 'gMP': 'F',\n 'lAiS': 'F',\n 'rAlAnRC': 'H',\n 'rAFYFYFnRC': 'H',\n 'rAgMYFnRC': 'H',\n 'rAFYgMnRC': 'H',\n 'aCH': 'H',\n 'rAFYFnRN': 'H',\n 'rAgMnRN': 'H',\n 'hTN': 'H',\n 'BO': 'H',\n 'rAFnRO': 'H',\n 'FB': 'gM',\n 'gMiT': 'gM',\n 'rAFnRC': 'N',\n 'iSH': 'N',\n 'rAFYFnRC': 'O',\n 'rAgMnRC': 'O',\n 'PH': 'O',\n 'rAFnRN': 'O',\n 'iTO': 'O',\n 'PaC': 'P',\n 'iTP': 'P',\n 'rAFnRiS': 'P',\n 'iSaC': 'iS',\n 'aChT': 'hT',\n 'PB': 'iT',\n 'iTiT': 'iT',\n 'FH': 'e',\n 'lAN': 'e',\n 'gMO': 'e'}"
     },
     "execution_count": 155,
     "metadata": {},
     "output_type": "execute_result"
    }
   ],
   "source": [
    "def parse_replacements2(line):\n",
    "    src, dest = re.match(r'(\\w+) => (\\w+)', line).groups()\n",
    "    return dest[::-1], src[::-1]\n",
    "\n",
    "reverse_replacements = dict(map(parse_replacements2, transactions.split('\\n')))"
   ]
  },
  {
   "cell_type": "code",
   "execution_count": null,
   "metadata": {
    "pycharm": {
     "name": "#%%\n"
    }
   },
   "outputs": [],
   "source": [
    "def fewest_steps(molecule, replacements):\n",
    "    count = 0\n",
    "    while molecule != 'e':\n",
    "        molecule = re.sub('|'.join(replacements.keys()), lambda x: replacements[x.group()], molecule, 1)\n",
    "        count += 1\n",
    "    return count\n",
    "\n",
    "\n",
    "answer(19.2, fewest_steps(molecule[::-1], reverse_replacements), 207)"
   ]
  },
  {
   "cell_type": "code",
   "execution_count": null,
   "outputs": [],
   "source": [
    "test19 = {'H': ['HO', 'OH'], 'O': ['HH']}\n",
    "assert len(expand_iter('HOH', test19)) == 4\n",
    "assert len(expand_iter('HOHOHO', test19)) == 7\n",
    "expand_iter('HOH', test19)"
   ],
   "metadata": {
    "collapsed": false,
    "pycharm": {
     "name": "#%%\n"
    }
   }
  },
  {
   "cell_type": "markdown",
   "metadata": {
    "pycharm": {
     "name": "#%% md\n"
    }
   },
   "source": [
    "# [Day 20](https://adventofcode.com/2015/day/20): Infinite Elves and Infinite Houses\n",
    "\n",
    "* **Input**: Single integer describing a number of presents."
   ]
  },
  {
   "cell_type": "code",
   "execution_count": 5,
   "metadata": {
    "pycharm": {
     "name": "#%%\n"
    }
   },
   "outputs": [
    {
     "name": "stdout",
     "output_type": "stream",
     "text": [
      "----------------------------------------------------------------------------------------------------\n",
      "data/2015/input20.txt ➜ 9 chars, 1 lines; first 1 lines:\n",
      "----------------------------------------------------------------------------------------------------\n",
      "29000000\n",
      "----------------------------------------------------------------------------------------------------\n",
      "parse(20) ➜ 1 entries:\n",
      "----------------------------------------------------------------------------------------------------\n",
      "(29000000,)\n",
      "----------------------------------------------------------------------------------------------------\n"
     ]
    }
   ],
   "source": [
    "number_of_presents = in20 = first(parse(20, int))"
   ]
  },
  {
   "cell_type": "markdown",
   "metadata": {},
   "source": [
    "* **Part 1**: What is the lowest house number of the house to get at least as many presents as the number in your puzzle input?"
   ]
  },
  {
   "cell_type": "code",
   "execution_count": null,
   "metadata": {
    "pycharm": {
     "name": "#%%\n"
    }
   },
   "outputs": [],
   "source": [
    "def lowest_house_number(target):\n",
    "    presents = np.zeros(1_000_000)\n",
    "    for i in range(1, len(presents)):\n",
    "        presents[i::i] += 10 * i\n",
    "    return np.argmax(presents >= target)\n",
    "\n",
    "\n",
    "answer(20.1, lowest_house_number(number_of_presents), 665_280)"
   ]
  },
  {
   "cell_type": "markdown",
   "metadata": {},
   "source": [
    "* **Part 2**: Each Elf will stop after delivering presents to 50 houses. To make up for it, they decide to deliver presents equal to eleven times their number at each house."
   ]
  },
  {
   "cell_type": "code",
   "execution_count": 6,
   "metadata": {
    "pycharm": {
     "name": "#%%\n"
    }
   },
   "outputs": [
    {
     "ename": "NameError",
     "evalue": "name 'number_of_presents' is not defined",
     "output_type": "error",
     "traceback": [
      "\u001B[0;31m---------------------------------------------------------------------------\u001B[0m",
      "\u001B[0;31mNameError\u001B[0m                                 Traceback (most recent call last)",
      "\u001B[0;32m/var/folders/lp/db8kjwts1mv3lhq3yk22fyv80000gn/T/ipykernel_35034/1405021089.py\u001B[0m in \u001B[0;36m<module>\u001B[0;34m\u001B[0m\n\u001B[1;32m      6\u001B[0m \u001B[0;34m\u001B[0m\u001B[0m\n\u001B[1;32m      7\u001B[0m \u001B[0;34m\u001B[0m\u001B[0m\n\u001B[0;32m----> 8\u001B[0;31m \u001B[0manswer\u001B[0m\u001B[0;34m(\u001B[0m\u001B[0;36m20.2\u001B[0m\u001B[0;34m,\u001B[0m \u001B[0mlowest_house_number2\u001B[0m\u001B[0;34m(\u001B[0m\u001B[0mnumber_of_presents\u001B[0m\u001B[0;34m)\u001B[0m\u001B[0;34m,\u001B[0m \u001B[0;36m705_600\u001B[0m\u001B[0;34m)\u001B[0m\u001B[0;34m\u001B[0m\u001B[0;34m\u001B[0m\u001B[0m\n\u001B[0m\u001B[1;32m      9\u001B[0m \u001B[0;34m\u001B[0m\u001B[0m\n",
      "\u001B[0;31mNameError\u001B[0m: name 'number_of_presents' is not defined"
     ]
    }
   ],
   "source": [
    "def lowest_house_number2(target):\n",
    "    presents = np.zeros(1_000_000)\n",
    "    for i in range(1, len(presents)):\n",
    "        presents[i:51 * i:i] += 11 * i\n",
    "    return np.argmax(presents >= target)\n",
    "\n",
    "\n",
    "answer(20.2, lowest_house_number2(number_of_presents), 705_600)"
   ]
  },
  {
   "cell_type": "markdown",
   "metadata": {
    "pycharm": {
     "name": "#%% md\n"
    }
   },
   "source": [
    "# [Day 21](https://adventofcode.com/2015/day/21): RPG Simulator 20XX\n",
    "\n",
    "* **Input**: Specs of an enemy player. There are some more inputs in the form of an item shop, e.g., *weapons*."
   ]
  },
  {
   "cell_type": "code",
   "execution_count": 11,
   "metadata": {
    "pycharm": {
     "name": "#%%\n"
    }
   },
   "outputs": [
    {
     "name": "stdout",
     "output_type": "stream",
     "text": [
      "----------------------------------------------------------------------------------------------------\n",
      "data/2015/input21.txt ➜ 35 chars, 3 lines; first 3 lines:\n",
      "----------------------------------------------------------------------------------------------------\n",
      "Hit Points: 103\n",
      "Damage: 9\n",
      "Armor: 2\n",
      "----------------------------------------------------------------------------------------------------\n",
      "parse(21) ➜ 3 entries:\n",
      "----------------------------------------------------------------------------------------------------\n",
      "(('Hit Points', 103), ('Damage', 9), ('Armor', 2))\n",
      "----------------------------------------------------------------------------------------------------\n"
     ]
    }
   ],
   "source": [
    "def parse_specs(line):\n",
    "    spec, points = re.match(r'(.*): (\\d+)', line).groups()\n",
    "    return spec, int(points)\n",
    "\n",
    "\n",
    "enemy = in21 = dict(parse(21, parse_specs))"
   ]
  },
  {
   "cell_type": "code",
   "execution_count": 15,
   "metadata": {
    "pycharm": {
     "name": "#%%\n"
    }
   },
   "outputs": [],
   "source": [
    "weapons = (\n",
    "    {'Name': 'Dagger', 'Cost': 8, 'Damage': 4, 'Armor': 0},\n",
    "    {'Name': 'Shortsword', 'Cost': 10, 'Damage': 5, 'Armor': 0},\n",
    "    {'Name': 'Warhammer', 'Cost': 25, 'Damage': 6, 'Armor': 0},\n",
    "    {'Name': 'Longsword', 'Cost': 40, 'Damage': 7, 'Armor': 0},\n",
    "    {'Name': 'Greataxe', 'Cost': 74, 'Damage': 8, 'Armor': 0}\n",
    ")\n",
    "armors = (\n",
    "    {'Name': 'Leather', 'Cost': 13, 'Damage': 0, 'Armor': 1},\n",
    "    {'Name': 'Chainmail', 'Cost': 31, 'Damage': 0, 'Armor': 2},\n",
    "    {'Name': 'Splintmail', 'Cost': 53, 'Damage': 0, 'Armor': 3},\n",
    "    {'Name': 'Bandedmail', 'Cost': 75, 'Damage': 0, 'Armor': 4},\n",
    "    {'Name': 'Platemail', 'Cost': 102, 'Damage': 0, 'Armor': 5},\n",
    "    {'Name': None, 'Cost': 0, 'Damage': 0, 'Armor': 0}\n",
    ")\n",
    "rings = (\n",
    "    {'Name': 'Damage +1', 'Cost': 25, 'Damage': 1, 'Armor': 0},\n",
    "    {'Name': 'Damage +2', 'Cost': 50, 'Damage': 2, 'Armor': 0},\n",
    "    {'Name': 'Damage +3', 'Cost': 100, 'Damage': 3, 'Armor': 0},\n",
    "    {'Name': 'Defense +1', 'Cost': 20, 'Damage': 0, 'Armor': 1},\n",
    "    {'Name': 'Defense +2', 'Cost': 40, 'Damage': 0, 'Armor': 2},\n",
    "    {'Name': 'Defense +3', 'Cost': 80, 'Damage': 0, 'Armor': 3},\n",
    "    {'Name': None, 'Cost': 0, 'Damage': 0, 'Armor': 0}\n",
    ")\n",
    "\n",
    "all_players = tuple({'Hit Points': 100,\n",
    "                     'Damage': sum(item['Damage'] for item in items),\n",
    "                     'Armor': sum(item['Armor'] for item in items),\n",
    "                     'Cost': sum(item['Cost'] for item in items)}\n",
    "                     for items in cross_product(weapons, armors, rings, rings)\n",
    "                     if not (items[2] and items[3] and items[2] == items[3])\n",
    ")"
   ]
  },
  {
   "cell_type": "code",
   "execution_count": 16,
   "metadata": {
    "pycharm": {
     "name": "#%%\n"
    }
   },
   "outputs": [],
   "source": [
    "def player_wins(player, enemy):\n",
    "    player, enemy = player.copy(), enemy.copy()\n",
    "    while True:\n",
    "        enemy['Hit Points'] -= max(1, player['Damage'] - enemy['Armor'])\n",
    "        player['Hit Points'] -= max(1, enemy['Damage'] - player['Armor'])\n",
    "        if enemy['Hit Points'] <= 0:\n",
    "            return True\n",
    "        elif player['Hit Points'] <= 0:\n",
    "            return False"
   ]
  },
  {
   "cell_type": "markdown",
   "metadata": {},
   "source": [
    "* **Part 1**: Find the minimum cost to beat the enemy."
   ]
  },
  {
   "cell_type": "code",
   "execution_count": 17,
   "outputs": [
    {
     "data": {
      "text/plain": "True"
     },
     "execution_count": 17,
     "metadata": {},
     "output_type": "execute_result"
    }
   ],
   "source": [
    "answer(21.1, min(player['Cost'] for player in all_players if player_wins(player, enemy)), 121)"
   ],
   "metadata": {
    "collapsed": false,
    "pycharm": {
     "name": "#%%\n"
    }
   }
  },
  {
   "cell_type": "markdown",
   "metadata": {},
   "source": [
    "* **Part 2**: Find the maximum cost to beat the enemy"
   ]
  },
  {
   "cell_type": "code",
   "execution_count": null,
   "metadata": {
    "pycharm": {
     "name": "#%%\n"
    }
   },
   "outputs": [],
   "source": [
    "answer(21.2, max(player['Cost'] for player in all_players if not player_wins(player, enemy)), 201)\n"
   ]
  },
  {
   "cell_type": "markdown",
   "metadata": {
    "pycharm": {
     "name": "#%% md\n"
    }
   },
   "source": [
    "# [Day 22](https://adventofcode.com/2015/day/22): Wizard Simulator 20XX\n",
    "\n",
    "* **Input**:"
   ]
  },
  {
   "cell_type": "code",
   "execution_count": null,
   "metadata": {
    "pycharm": {
     "name": "#%%\n"
    }
   },
   "outputs": [],
   "source": [
    "enemy = in22 = dict(parse(22, parse_specs))"
   ]
  },
  {
   "cell_type": "code",
   "execution_count": null,
   "outputs": [],
   "source": [],
   "metadata": {
    "collapsed": false,
    "pycharm": {
     "name": "#%%\n"
    }
   }
  },
  {
   "cell_type": "markdown",
   "metadata": {},
   "source": [
    "* **Part 1**:"
   ]
  },
  {
   "cell_type": "code",
   "execution_count": null,
   "metadata": {
    "pycharm": {
     "name": "#%%\n"
    }
   },
   "outputs": [],
   "source": [
    "# Part 1"
   ]
  },
  {
   "cell_type": "markdown",
   "metadata": {},
   "source": [
    "* **Part 1**:"
   ]
  },
  {
   "cell_type": "code",
   "execution_count": null,
   "metadata": {
    "pycharm": {
     "name": "#%%\n"
    }
   },
   "outputs": [],
   "source": [
    "# Part 2\n"
   ]
  },
  {
   "cell_type": "markdown",
   "metadata": {},
   "source": [
    "# [Day 23](https://adventofcode.com/2015/day/23): Opening the Turing Lock\n",
    "\n",
    "* **Input**: List of assembly instructions."
   ]
  },
  {
   "cell_type": "code",
   "execution_count": 1,
   "metadata": {
    "pycharm": {
     "name": "#%%\n"
    }
   },
   "outputs": [
    {
     "ename": "NameError",
     "evalue": "name 'parse' is not defined",
     "output_type": "error",
     "traceback": [
      "\u001B[0;31m---------------------------------------------------------------------------\u001B[0m",
      "\u001B[0;31mNameError\u001B[0m                                 Traceback (most recent call last)",
      "\u001B[0;32m/var/folders/lp/db8kjwts1mv3lhq3yk22fyv80000gn/T/ipykernel_3174/3477640771.py\u001B[0m in \u001B[0;36m<module>\u001B[0;34m\u001B[0m\n\u001B[0;32m----> 1\u001B[0;31m \u001B[0minstructions\u001B[0m \u001B[0;34m=\u001B[0m \u001B[0min23\u001B[0m \u001B[0;34m=\u001B[0m \u001B[0mparse\u001B[0m\u001B[0;34m(\u001B[0m\u001B[0;36m23\u001B[0m\u001B[0;34m,\u001B[0m \u001B[0matoms\u001B[0m\u001B[0;34m)\u001B[0m\u001B[0;34m\u001B[0m\u001B[0;34m\u001B[0m\u001B[0m\n\u001B[0m\u001B[1;32m      2\u001B[0m \u001B[0;34m\u001B[0m\u001B[0m\n",
      "\u001B[0;31mNameError\u001B[0m: name 'parse' is not defined"
     ]
    }
   ],
   "source": [
    "instructions = in23 = parse(23, atoms)"
   ]
  },
  {
   "cell_type": "markdown",
   "metadata": {},
   "source": [
    "* **Part 1**: Execute instructions and return the value in register `b`."
   ]
  },
  {
   "cell_type": "code",
   "execution_count": null,
   "metadata": {
    "pycharm": {
     "name": "#%%\n"
    }
   },
   "outputs": [],
   "source": [
    "def execute(instructions, init=0):\n",
    "    ip, reg = 0, {'a': init, 'b': 0}\n",
    "    while ip < len(instructions):\n",
    "        op, a, *b = instructions[ip]\n",
    "        if op == 'hlf':\n",
    "            reg[a] /= 2\n",
    "            ip += 1\n",
    "        elif op == 'tpl':\n",
    "            reg[a] *= 3\n",
    "            ip += 1\n",
    "        elif op == 'inc':\n",
    "            reg[a] += 1\n",
    "            ip += 1\n",
    "        elif op == 'jmp':\n",
    "            ip += a\n",
    "        elif op == 'jie':\n",
    "            ip += first(b) if reg[a] % 2 == 0 else 1\n",
    "        elif op == 'jio':\n",
    "            ip += first(b) if reg[a] == 1 else 1\n",
    "    return reg['b']\n",
    "\n",
    "\n",
    "answer(23.1, execute(instructions), 255)"
   ]
  },
  {
   "cell_type": "markdown",
   "metadata": {},
   "source": [
    "* **Part 2**: Redo the execution if the value in `a` register is `1`."
   ]
  },
  {
   "cell_type": "code",
   "execution_count": null,
   "metadata": {
    "pycharm": {
     "name": "#%%\n"
    }
   },
   "outputs": [],
   "source": [
    "answer(23.2, execute(instructions, init=1), 334)"
   ]
  },
  {
   "cell_type": "markdown",
   "metadata": {
    "pycharm": {
     "name": "#%% md\n"
    }
   },
   "source": [
    "# [Day 24](https://adventofcode.com/2015/day/24): It Hangs in the Balance\n",
    "\n",
    "* **Input**: List of integers, namely weights of every package santa needs to fit on his sleigh."
   ]
  },
  {
   "cell_type": "code",
   "execution_count": 5,
   "metadata": {
    "pycharm": {
     "name": "#%%\n"
    }
   },
   "outputs": [
    {
     "name": "stdout",
     "output_type": "stream",
     "text": [
      "----------------------------------------------------------------------------------------------------\n",
      "data/2015/input24.txt ➜ 86 chars, 28 lines; first 7 lines:\n",
      "----------------------------------------------------------------------------------------------------\n",
      "1\n",
      "3\n",
      "5\n",
      "11\n",
      "13\n",
      "17\n",
      "19\n",
      "----------------------------------------------------------------------------------------------------\n",
      "parse(24) ➜ 28 entries:\n",
      "----------------------------------------------------------------------------------------------------\n",
      "(1, 3, 5, 11, 13, 17, 19, 23, 29, 31, 41, 43, 47, 53, 59, 61, 67, 71,  ...  101, 103, 107, 109, 113)\n",
      "----------------------------------------------------------------------------------------------------\n"
     ]
    }
   ],
   "source": [
    "in24 = set(parse(24, int))"
   ]
  },
  {
   "cell_type": "markdown",
   "metadata": {},
   "source": [
    "* **Part 1**: What is the quantum entanglement of the first `3` groups of packages in the ideal configuration?"
   ]
  },
  {
   "cell_type": "code",
   "execution_count": 6,
   "metadata": {
    "pycharm": {
     "name": "#%%\n"
    }
   },
   "outputs": [
    {
     "name": "stdout",
     "output_type": "stream",
     "text": [
      "1\n",
      "2\n",
      "3\n",
      "4\n",
      "5\n",
      "6\n"
     ]
    },
    {
     "ename": "NameError",
     "evalue": "name 'prod' is not defined",
     "output_type": "error",
     "traceback": [
      "\u001B[0;31m---------------------------------------------------------------------------\u001B[0m",
      "\u001B[0;31mNameError\u001B[0m                                 Traceback (most recent call last)",
      "\u001B[0;32m/var/folders/lp/db8kjwts1mv3lhq3yk22fyv80000gn/T/ipykernel_3174/2188645750.py\u001B[0m in \u001B[0;36m<module>\u001B[0;34m\u001B[0m\n\u001B[1;32m     19\u001B[0m \u001B[0;34m\u001B[0m\u001B[0m\n\u001B[1;32m     20\u001B[0m \u001B[0;34m\u001B[0m\u001B[0m\n\u001B[0;32m---> 21\u001B[0;31m \u001B[0manswer\u001B[0m\u001B[0;34m(\u001B[0m\u001B[0;36m24.1\u001B[0m\u001B[0;34m,\u001B[0m \u001B[0mquantum_entanglement\u001B[0m\u001B[0;34m(\u001B[0m\u001B[0min24\u001B[0m\u001B[0;34m,\u001B[0m \u001B[0mgroups\u001B[0m\u001B[0;34m=\u001B[0m\u001B[0;36m3\u001B[0m\u001B[0;34m)\u001B[0m\u001B[0;34m,\u001B[0m \u001B[0;36m11266889531\u001B[0m\u001B[0;34m)\u001B[0m\u001B[0;34m\u001B[0m\u001B[0;34m\u001B[0m\u001B[0m\n\u001B[0m\u001B[1;32m     22\u001B[0m \u001B[0;34m\u001B[0m\u001B[0m\n",
      "\u001B[0;32m/var/folders/lp/db8kjwts1mv3lhq3yk22fyv80000gn/T/ipykernel_3174/2188645750.py\u001B[0m in \u001B[0;36mquantum_entanglement\u001B[0;34m(packages, groups)\u001B[0m\n\u001B[1;32m     16\u001B[0m         \u001B[0mprint\u001B[0m\u001B[0;34m(\u001B[0m\u001B[0mn\u001B[0m\u001B[0;34m)\u001B[0m\u001B[0;34m\u001B[0m\u001B[0;34m\u001B[0m\u001B[0m\n\u001B[1;32m     17\u001B[0m         \u001B[0;32mfor\u001B[0m \u001B[0mgroup\u001B[0m \u001B[0;32min\u001B[0m \u001B[0msubset_sum\u001B[0m\u001B[0;34m(\u001B[0m\u001B[0mweight_per_section\u001B[0m\u001B[0;34m,\u001B[0m \u001B[0mpackages\u001B[0m\u001B[0;34m,\u001B[0m \u001B[0mn\u001B[0m\u001B[0;34m)\u001B[0m\u001B[0;34m:\u001B[0m\u001B[0;34m\u001B[0m\u001B[0;34m\u001B[0m\u001B[0m\n\u001B[0;32m---> 18\u001B[0;31m             \u001B[0;32mreturn\u001B[0m \u001B[0mprod\u001B[0m\u001B[0;34m(\u001B[0m\u001B[0mgroup\u001B[0m\u001B[0;34m)\u001B[0m\u001B[0;34m\u001B[0m\u001B[0;34m\u001B[0m\u001B[0m\n\u001B[0m\u001B[1;32m     19\u001B[0m \u001B[0;34m\u001B[0m\u001B[0m\n\u001B[1;32m     20\u001B[0m \u001B[0;34m\u001B[0m\u001B[0m\n",
      "\u001B[0;31mNameError\u001B[0m: name 'prod' is not defined"
     ]
    }
   ],
   "source": [
    "def subset_sum(target, items, count):\n",
    "    if target == 0 and count == 0:\n",
    "        yield set()\n",
    "    elif count == 0:\n",
    "        return\n",
    "    else:\n",
    "        for item in sorted(items):\n",
    "            if item <= target:\n",
    "                for recur in subset_sum(target - item, items - {item}, count - 1):\n",
    "                    yield {item} | recur\n",
    "\n",
    "\n",
    "def quantum_entanglement(packages, groups=3):\n",
    "    weight_per_section = sum(packages) / groups\n",
    "    for n in range(1, len(packages)):\n",
    "        for group in subset_sum(weight_per_section, packages, n):\n",
    "            return prod(group)\n",
    "\n",
    "\n",
    "answer(24.1, quantum_entanglement(in24, groups=3), 11_266_889_531)"
   ]
  },
  {
   "cell_type": "markdown",
   "metadata": {},
   "source": [
    "* **Part 2**: What is the quantum entanglement of the first `4` groups of packages in the ideal configuration?"
   ]
  },
  {
   "cell_type": "code",
   "execution_count": null,
   "metadata": {
    "pycharm": {
     "name": "#%%\n"
    }
   },
   "outputs": [],
   "source": [
    "answer(24.2, quantum_entanglement(in24, groups=4), 77_387_711)\n"
   ]
  },
  {
   "cell_type": "markdown",
   "metadata": {
    "pycharm": {
     "name": "#%% md\n"
    }
   },
   "source": [
    "# [Day 25](https://adventofcode.com/2015/day/25): Let It Snow\n",
    "\n",
    "* **Input**: Two integers, depicting the target row and column."
   ]
  },
  {
   "cell_type": "code",
   "execution_count": 11,
   "metadata": {
    "pycharm": {
     "name": "#%%\n"
    }
   },
   "outputs": [
    {
     "name": "stdout",
     "output_type": "stream",
     "text": [
      "----------------------------------------------------------------------------------------------------\n",
      "data/2015/input25.txt ➜ 99 chars, 1 lines; first 1 lines:\n",
      "----------------------------------------------------------------------------------------------------\n",
      "To continue, please consult the code grid in the manual.  Enter the code at row 2981, column 3075.\n",
      "----------------------------------------------------------------------------------------------------\n",
      "parse(25) ➜ 1 entries:\n",
      "----------------------------------------------------------------------------------------------------\n",
      "((2981, 3075),)\n",
      "----------------------------------------------------------------------------------------------------\n"
     ]
    }
   ],
   "source": [
    "target_row, target_col = in25 = first(parse(25, ints))"
   ]
  },
  {
   "cell_type": "markdown",
   "metadata": {},
   "source": [
    "* **Part 1**:"
   ]
  },
  {
   "cell_type": "code",
   "execution_count": null,
   "metadata": {
    "pycharm": {
     "name": "#%%\n"
    }
   },
   "outputs": [],
   "source": [
    "def find_code(val, target_row, target_col):\n",
    "    row, col = 1, 1\n",
    "    while target_row != row and target_col != col:\n",
    "        row, col = (col + 1, 1) if row == 1 else (row - 1, col + 1)  # logic to loop around\n",
    "        val = val * 252533 % 33554393\n",
    "    return val\n",
    "\n",
    "\n",
    "answer(25.1, find_code(20151125, target_row, target_col), 9132360)"
   ]
  },
  {
   "cell_type": "markdown",
   "metadata": {
    "pycharm": {
     "name": "#%% md\n"
    }
   },
   "source": [
    "* **Part 2**: There is no part 2!"
   ]
  }
 ],
 "metadata": {
  "kernelspec": {
   "display_name": "Python 3 (ipykernel)",
   "language": "python",
   "name": "python3"
  },
  "language_info": {
   "codemirror_mode": {
    "name": "ipython",
    "version": 3
   },
   "file_extension": ".py",
   "mimetype": "text/x-python",
   "name": "python",
   "nbconvert_exporter": "python",
   "pygments_lexer": "ipython3",
   "version": "3.9.7"
  }
 },
 "nbformat": 4,
 "nbformat_minor": 1
}