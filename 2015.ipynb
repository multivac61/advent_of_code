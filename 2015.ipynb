{
 "cells": [
  {
   "cell_type": "code",
   "source": [
    "from util import *"
   ],
   "metadata": {
    "collapsed": false,
    "pycharm": {
     "name": "#%%\n",
     "is_executing": false
    }
   },
   "execution_count": 1,
   "outputs": []
  },
  {
   "cell_type": "markdown",
   "source": [
    "# 2015"
   ],
   "metadata": {
    "collapsed": false
   }
  },
  {
   "cell_type": "markdown",
   "source": [
    "## Day 1"
   ],
   "metadata": {
    "collapsed": false
   }
  },
  {
   "cell_type": "code",
   "execution_count": 2,
   "outputs": [],
   "source": [
    "stairs = lambda s: 1 if s == '(' else -1\n",
    "\n",
    "def santa_stairs(steps): return sum(map(stairs, steps))\n",
    "\n",
    "assert 0 == santa_stairs(\"()()\") == santa_stairs(\"))((\")\n",
    "assert 3 == santa_stairs(\"(()(()(\") == santa_stairs(\"(((\") == santa_stairs(\"))(((((\")\n",
    "assert -1 == santa_stairs(\"())\") == santa_stairs(\"))(\")\n",
    "\n",
    "input1 = cat(Input(\"1\"))\n",
    "assert 232 == santa_stairs(input1)"
   ],
   "metadata": {
    "collapsed": false,
    "pycharm": {
     "name": "#%%\n",
     "is_executing": false
    }
   }
  },
  {
   "cell_type": "code",
   "execution_count": 3,
   "outputs": [],
   "source": [
    "def when_enter_basement(steps):\n",
    "    current_floor = 0\n",
    "    for i, s in enumerate(steps):\n",
    "        current_floor += stairs(s)\n",
    "        if current_floor < 0: return i + 1\n",
    "\n",
    "assert 1783 == when_enter_basement(input1)\n"
   ],
   "metadata": {
    "collapsed": false,
    "pycharm": {
     "name": "#%%\n",
     "is_executing": false
    }
   }
  },
  {
   "cell_type": "markdown",
   "source": [
    "## Day 2"
   ],
   "metadata": {
    "collapsed": false
   }
  },
  {
   "cell_type": "code",
   "execution_count": 4,
   "outputs": [],
   "source": [
    "def surface_area_with_slack(dimensions):\n",
    "    l, w, h = sorted(dimensions)\n",
    "    return 2*l*w + 2*w*h + 2*h*l + l*w\n",
    "\n",
    "input2 = Input(2, line_parser=integers)\n",
    "assert 1606483 == sum(map(surface_area_with_slack, input2))"
   ],
   "metadata": {
    "collapsed": false,
    "pycharm": {
     "name": "#%%\n",
     "is_executing": false
    }
   }
  },
  {
   "cell_type": "code",
   "execution_count": 5,
   "outputs": [],
   "source": [
    "def required_ribbon(dimensions):\n",
    "    l, w, h = sorted(dimensions)\n",
    "    return 2 * (l + w) + l * w * h\n",
    "    \n",
    "assert 34 == required_ribbon((2,3,4))\n",
    "assert 14 == required_ribbon((1,1,10))\n",
    "assert 3842356 == sum(map(required_ribbon, input2))\n"
   ],
   "metadata": {
    "collapsed": false,
    "pycharm": {
     "name": "#%%\n",
     "is_executing": false
    }
   }
  },
  {
   "cell_type": "markdown",
   "source": [
    "## Day 3"
   ],
   "metadata": {
    "collapsed": false
   }
  },
  {
   "cell_type": "code",
   "execution_count": 6,
   "outputs": [],
   "source": [
    "headings = {'>': right, '<': left, '^': up, 'v': down}\n",
    "\n",
    "def unique_houses(directions):\n",
    "    location, houses_received_presents = 0, {0}\n",
    "    for d in directions:\n",
    "        location += headings[d]\n",
    "        houses_received_presents.add(location)\n",
    "        \n",
    "    return len(houses_received_presents)\n",
    "        \n",
    "assert 2 == unique_houses('>')\n",
    "assert 4 == unique_houses('^>v<')\n",
    "assert 2 == unique_houses('^v^v^v^v^v')\n",
    "\n",
    "input3 = cat(Input(3))\n",
    "assert 2572 == unique_houses(input3)"
   ],
   "metadata": {
    "collapsed": false,
    "pycharm": {
     "name": "#%%\n",
     "is_executing": false
    }
   }
  },
  {
   "cell_type": "code",
   "execution_count": 7,
   "outputs": [],
   "source": [
    "def unique_houses_robo_santa(directions):\n",
    "    santa_location, robo_santa_location = complex(0,0), complex(0,0)\n",
    "    presents = {santa_location}\n",
    "    for s, r in zip(directions[0::2], directions[1::2]):\n",
    "        santa_location += headings[s]\n",
    "        robo_santa_location += headings[r]\n",
    "        presents |= {santa_location, robo_santa_location}\n",
    "    return len(presents)\n",
    "        \n",
    "assert 3 == unique_houses_robo_santa('^v')\n",
    "assert 3 == unique_houses_robo_santa('^>v<')\n",
    "assert 11 == unique_houses_robo_santa('^v^v^v^v^v')\n",
    "\n",
    "input3 = cat(Input(3))\n",
    "assert 2631 == unique_houses_robo_santa(input3)"
   ],
   "metadata": {
    "collapsed": false,
    "pycharm": {
     "name": "#%%\n",
     "is_executing": false
    }
   }
  },
  {
   "cell_type": "markdown",
   "source": [
    "## Day 4"
   ],
   "metadata": {
    "collapsed": false
   }
  },
  {
   "cell_type": "code",
   "execution_count": 8,
   "outputs": [],
   "source": [
    "from hashlib import md5\n",
    "\n",
    "def crack_secret_key(key, zeros=5):\n",
    "    i = 0\n",
    "    while True:\n",
    "        to_hash = key + str(i)\n",
    "        hashed = md5(to_hash.encode()).hexdigest()\n",
    "        if hashed[:zeros] == '0'*zeros:\n",
    "            return i\n",
    "        i += 1\n",
    "\n",
    "assert 609043 == crack_secret_key('abcdef')\n",
    "assert 1048970 == crack_secret_key('pqrstuv')\n",
    "\n",
    "input4 = 'yzbqklnj'\n",
    "assert 282749 == crack_secret_key(input4, zeros=5)\n",
    "assert 9962624 == crack_secret_key(input4, zeros=6)"
   ],
   "metadata": {
    "collapsed": false,
    "pycharm": {
     "name": "#%%\n",
     "is_executing": false
    }
   }
  },
  {
   "cell_type": "markdown",
   "source": [
    "## Day 5"
   ],
   "metadata": {
    "collapsed": false
   }
  },
  {
   "cell_type": "code",
   "execution_count": 9,
   "outputs": [],
   "source": [
    "def is_nice_string(s):\n",
    "    return any(a == b for a, b in zip(s[:-1], s[1:])) and \\\n",
    "           sum(1 for i in s if i in 'aeiou') >= 3 and \\\n",
    "           not any(x in s for x in {'ab', 'cd', 'pq', 'xy'})\n",
    "\n",
    "assert True == is_nice_string('ugknbfddgicrmopn')\n",
    "assert True == is_nice_string('aaa')\n",
    "assert False == is_nice_string('jchzalrnumimnmhp')\n",
    "assert False == is_nice_string('haegwjzuvuyypxyu')\n",
    "assert False == is_nice_string('dvszwmarrgswjxmb')\n",
    "\n",
    "input5 = Input(5)\n",
    "assert 236 == sum(1 for i in input5 if is_nice_string(i))"
   ],
   "metadata": {
    "collapsed": false,
    "pycharm": {
     "name": "#%%\n",
     "is_executing": false
    }
   }
  },
  {
   "cell_type": "code",
   "execution_count": 10,
   "outputs": [],
   "source": [
    "def is_nice_string2(s):\n",
    "    return any(s[i:i+2] in s[i+2:] for i in range(len(s)-3)) and \\\n",
    "           any(a == c for a,c in zip(s, s[2:]))\n",
    "    \n",
    "assert True == is_nice_string2('qjhvhtzxzqqjkmpb')\n",
    "assert True == is_nice_string2('xxyxx')\n",
    "assert False == is_nice_string2('uurcxstgmygtbstg')\n",
    "assert False == is_nice_string2('ieodomkazucvgmuy')\n",
    "assert False == is_nice_string2('ugknbfddgicrmopn')\n",
    "assert False == is_nice_string2('aaa')\n",
    "assert False == is_nice_string2('jchzalrnumimnmhp')\n",
    "assert False == is_nice_string2('haegwjzuvuyypxyu')\n",
    "assert False == is_nice_string2('dvszwmarrgswjxmb')\n",
    "\n",
    "assert 51 == sum(1 for i in input5 if is_nice_string2(i))"
   ],
   "metadata": {
    "collapsed": false,
    "pycharm": {
     "name": "#%%\n",
     "is_executing": false
    }
   }
  },
  {
   "cell_type": "markdown",
   "source": [
    "## Day 6"
   ],
   "metadata": {
    "collapsed": false
   }
  },
  {
   "cell_type": "code",
   "execution_count": 11,
   "outputs": [],
   "source": [
    "def execute(instructions, actions, lights = None):\n",
    "    lights = [[False]*1000 for _ in range(1000)] if lights is None else lights\n",
    "    instructions = re.findall(\"(toggle|turn on|turn off)\\s(\\d*),(\\d*)\\sthrough\\s(\\d*),(\\d*)\", instructions)\n",
    "    for (a, x0, y0, x1, y1) in instructions:\n",
    "        coordinates = ((x, y) for x in rangei(int(x0), int(x1)) for y in rangei(int(y0), int(y1)))\n",
    "        for x, y in coordinates: \n",
    "            lights[x][y] = actions[a](lights[x][y])\n",
    "    return lights\n",
    "\n",
    "fuel_needed = {\n",
    "    'toggle': lambda x: 0 if x == 1 else 1, \n",
    "    'turn on': lambda _: 1, \n",
    "    'turn off': lambda _: 0, \n",
    "}\n",
    "\n",
    "assert all(execute('turn on 0,0 through 999,999', fuel_needed))\n",
    "assert all(execute('toggle 0,0 through 0,999', fuel_needed)[0])\n",
    "assert all(i[0] for i in execute('toggle 0,0 through 999,0', fuel_needed))\n",
    "\n",
    "input6 = cat(Input(6))\n",
    "assert 377891 == sum(i for sublist in execute(input6, fuel_needed) for i in sublist)"
   ],
   "metadata": {
    "collapsed": false,
    "pycharm": {
     "name": "#%%\n",
     "is_executing": false
    }
   }
  },
  {
   "cell_type": "code",
   "execution_count": 12,
   "outputs": [],
   "source": [
    "part_2 = {\n",
    "    'toggle': lambda x: x + 2, \n",
    "    'turn on': lambda x: x + 1, \n",
    "    'turn off': lambda x: max(x - 1, 0), \n",
    "}\n",
    "\n",
    "assert 14110788 == sum(i for sublist in execute(input6, part_2) for i in sublist)"
   ],
   "metadata": {
    "collapsed": false,
    "pycharm": {
     "name": "#%%\n",
     "is_executing": false
    }
   }
  },
  {
   "cell_type": "markdown",
   "source": [
    "## Day 7"
   ],
   "metadata": {
    "collapsed": false
   }
  },
  {
   "cell_type": "code",
   "execution_count": 13,
   "outputs": [],
   "source": [
    "@lru_cache()\n",
    "def get_value(key):\n",
    "    try:\n",
    "        return int(key)\n",
    "    except ValueError:\n",
    "        pass\n",
    "\n",
    "    cmd = data[key]\n",
    "\n",
    "    if \"NOT\" in cmd:      return ~get_value(cmd[1])\n",
    "    elif \"AND\" in cmd:    return get_value(cmd[0]) & get_value(cmd[2])\n",
    "    elif \"OR\" in cmd:     return get_value(cmd[0]) | get_value(cmd[2])\n",
    "    elif \"LSHIFT\" in cmd: return get_value(cmd[0]) << get_value(cmd[2])\n",
    "    elif \"RSHIFT\" in cmd: return get_value(cmd[0]) >> get_value(cmd[2])\n",
    "    else:                 return get_value(cmd[0])\n",
    "\n",
    "def generate_data(text):\n",
    "    return {tokens[-1] : tokens[:-2] for tokens in map(str.split, text)}\n",
    "\n",
    "data = generate_data(Input(7))\n",
    "\n",
    "assert 16076 == get_value(\"a\")"
   ],
   "metadata": {
    "collapsed": false,
    "pycharm": {
     "name": "#%%\n",
     "is_executing": false
    }
   }
  },
  {
   "cell_type": "code",
   "execution_count": 14,
   "outputs": [],
   "source": [
    "data[\"b\"] = str(get_value(\"a\"))\n",
    "get_value.cache_clear()\n",
    "assert 32790 == get_value(\"a\")"
   ],
   "metadata": {
    "collapsed": false,
    "pycharm": {
     "name": "#%%\n",
     "is_executing": false
    }
   }
  },
  {
   "cell_type": "markdown",
   "source": [
    "## Day 8"
   ],
   "metadata": {
    "collapsed": false
   }
  },
  {
   "cell_type": "code",
   "execution_count": null,
   "outputs": [],
   "source": [
    "input8 = Input(8)\n",
    "\n",
    "assert 1333 == sum(len(line) - len(eval(line)) for line in input8)"
   ],
   "metadata": {
    "collapsed": false,
    "pycharm": {
     "name": "#%%\n"
    }
   }
  },
  {
   "cell_type": "markdown",
   "source": [
    "Need more work on this one..."
   ],
   "metadata": {
    "collapsed": false
   }
  },
  {
   "cell_type": "code",
   "execution_count": null,
   "outputs": [],
   "source": [
    "sum(len(\"\\\"{}\\\"\".format(re.escape(line))) - len(line) for line in \"\\\"abc\\\"\")"
   ],
   "metadata": {
    "collapsed": false,
    "pycharm": {
     "name": "#%%\n"
    }
   }
  },
  {
   "cell_type": "markdown",
   "source": [
    "## Day 9"
   ],
   "metadata": {
    "collapsed": false
   }
  },
  {
   "cell_type": "code",
   "execution_count": null,
   "outputs": [],
   "source": [
    "test = \"\"\"London to Dublin = 464\\nLondon to Belfast = 518\\nDublin to Belfast = 141\"\"\"\n",
    "\n",
    "def parse(text):\n",
    "    distances, cities = dict(), set()\n",
    "    for (origin, destination, distance) in re.findall(\"(\\w+)\\sto\\s(\\w+)\\s=\\s(\\d*)\", text):\n",
    "        distances[fs((origin, destination))] = int(distance)\n",
    "        cities |= {origin, destination}\n",
    "    return distances, cities\n",
    "    \n",
    "def find_dist(distances, cities, cmp=min):\n",
    "    total = []\n",
    "    for p in permutations(cities):\n",
    "        total.append(sum(distances[fs((c1, c2))] for (c1, c2) in zip(p[:-1], p[1:])))\n",
    "    return cmp(total)\n",
    "\n",
    "input9 = cat(Input(9))\n",
    "assert 207 == find_dist(*parse(input9), cmp=min)"
   ],
   "metadata": {
    "collapsed": false,
    "pycharm": {
     "name": "#%%\n"
    }
   }
  },
  {
   "cell_type": "code",
   "execution_count": null,
   "outputs": [],
   "source": [
    "assert 804 == find_dist(*parse(input9), cmp=max)"
   ],
   "metadata": {
    "collapsed": false,
    "pycharm": {
     "name": "#%%\n"
    }
   }
  },
  {
   "cell_type": "markdown",
   "source": [
    "## Day 10"
   ],
   "metadata": {
    "collapsed": false
   }
  },
  {
   "cell_type": "code",
   "execution_count": null,
   "outputs": [],
   "source": [
    "repeat_and_say = lambda x: ''.join(str(sum(1 for _ in k)) + i for i, k in groupby(x))\n",
    "\n",
    "assert 252594 == len(repeat(repeat_and_say, 40, '1113222113'))"
   ],
   "metadata": {
    "collapsed": false,
    "pycharm": {
     "name": "#%%\n"
    }
   }
  },
  {
   "cell_type": "code",
   "execution_count": null,
   "outputs": [],
   "source": [
    "assert 3579328 == len(repeat(repeat_and_say, 50, '1113222113'))\n"
   ],
   "metadata": {
    "collapsed": false,
    "pycharm": {
     "name": "#%%\n"
    }
   }
  }
 ],
 "metadata": {
  "kernelspec": {
   "name": "python3",
   "language": "python",
   "display_name": "Python 3"
  },
  "language_info": {
   "codemirror_mode": {
    "name": "ipython",
    "version": 2
   },
   "file_extension": ".py",
   "mimetype": "text/x-python",
   "name": "python",
   "nbconvert_exporter": "python",
   "pygments_lexer": "ipython2",
   "version": "2.7.6"
  },
  "pycharm": {
   "stem_cell": {
    "cell_type": "raw",
    "source": [],
    "metadata": {
     "collapsed": false
    }
   }
  }
 },
 "nbformat": 4,
 "nbformat_minor": 0
}