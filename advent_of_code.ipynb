{
 "cells": [
  {
   "cell_type": "code",
   "execution_count": 2,
   "metadata": {
    "pycharm": {
     "is_executing": false
    }
   },
   "outputs": [],
   "source": [
    "#### IMPORTS\n",
    "\n",
    "%matplotlib inline\n",
    "\n",
    "import matplotlib.pyplot as plt\n",
    "import re\n",
    "from collections import Counter, defaultdict, namedtuple, deque\n",
    "from itertools   import chain, cycle, product, islice, count as count_from, groupby\n",
    "\n",
    "from functools   import lru_cache, total_ordering\n",
    "from dataclasses import dataclass\n",
    "\n",
    "from hashlib import md5 \n",
    "\n",
    "#### CONSTANTS\n",
    "\n",
    "infinity = float('inf')\n",
    "bignum   = 10 ** 100\n",
    "\n",
    "#### FILE INPUT AND PARSING\n",
    "\n",
    "def Input(day, line_parser=str.strip, file_template='data/advent2015/input{}.txt'):\n",
    "    \"\"\"For this day's input file, return a tuple of each line parsed by `line_parser`.\"\"\"\n",
    "    return mapt(line_parser, open(file_template.format(day)))\n",
    "\n",
    "def integers(text): \n",
    "    \"\"\"A tuple of all integers in a string (ignore other characters).\"\"\"\n",
    "    return mapt(int, re.findall(r'-?\\d+', text))\n",
    "\n",
    "#### UTILITY FUNCTIONS\n",
    "\n",
    "def mapt(fn, *args): \n",
    "    \"\"\"Do a map, and make the results into a tuple.\"\"\"\n",
    "    return tuple(map(fn, *args))\n",
    "\n",
    "def first(iterable, default=None):\n",
    "    \"\"\"Return first item in iterable, or default.\"\"\"\n",
    "    return next(iter(iterable), default)\n",
    "\n",
    "def nth(iterable, n):\n",
    "    return next(islice(iter(iterable), n, n+1))\n",
    "\n",
    "cat = ''.join\n",
    "\n",
    "def rangei(start, end, step=1):\n",
    "    \"\"\"Inclusive, range from start to end: rangei(a, b) = range(a, b+1).\"\"\"\n",
    "    return range(start, end + 1, step) \n",
    "\n",
    "def quantify(iterable, pred=bool):\n",
    "    \"\"\"Count how many items in iterable have pred(item) true.\"\"\"\n",
    "    return sum(map(pred, iterable))\n",
    "\n",
    "def multimap(items):\n",
    "    \"\"\"Given (key, val) pairs, return {key: [val, ....], ...}.\"\"\"\n",
    "    result = defaultdict(list)\n",
    "    for key, val in items:\n",
    "        result[key].append(val)\n",
    "    return result\n",
    "\n",
    "def repeat(func, n, x):\n",
    "    \"\"\"Call function func n-times with initial argument x\"\"\"\n",
    "    for _ in range(n):\n",
    "        x = func(x)\n",
    "    return x"
   ]
  },
  {
   "cell_type": "markdown",
   "metadata": {
    "pycharm": {
     "name": "#%% md\n"
    }
   },
   "source": [
    "### Day 1"
   ]
  },
  {
   "cell_type": "code",
   "execution_count": null,
   "metadata": {
    "pycharm": {
     "is_executing": true,
     "name": "#%%\n"
    }
   },
   "outputs": [],
   "source": [
    "stairs = lambda s: 1 if s == '(' else -1\n",
    "\n",
    "def santa_stairs(steps): return sum(map(stairs, steps))\n",
    "\n",
    "assert 0 == santa_stairs(\"()()\") == santa_stairs(\"))((\")\n",
    "assert 3 == santa_stairs(\"(()(()(\") == santa_stairs(\"(((\") == santa_stairs(\"))(((((\")\n",
    "assert -1 == santa_stairs(\"())\") == santa_stairs(\"))(\")\n",
    "\n",
    "input1 = cat(Input(\"1\"))\n",
    "assert 232 == santa_stairs(input1)"
   ]
  },
  {
   "cell_type": "code",
   "execution_count": null,
   "metadata": {
    "pycharm": {
     "is_executing": true,
     "name": "#%%\n"
    }
   },
   "outputs": [],
   "source": [
    "def when_enter_basement(steps):\n",
    "    current_floor = 0\n",
    "    for i, s in enumerate(steps):\n",
    "        current_floor += stairs(s)\n",
    "        if current_floor < 0: return i + 1\n",
    "\n",
    "assert 1783 == when_enter_basement(input1)\n"
   ]
  },
  {
   "cell_type": "markdown",
   "metadata": {
    "pycharm": {
     "name": "#%% md\n"
    }
   },
   "source": [
    "### Day 2"
   ]
  },
  {
   "cell_type": "code",
   "execution_count": null,
   "metadata": {
    "pycharm": {
     "is_executing": true,
     "name": "#%%\n"
    }
   },
   "outputs": [],
   "source": [
    "def surface_area_with_slack(dimensions):\n",
    "    l, w, h = sorted(dimensions)\n",
    "    return 2*l*w + 2*w*h + 2*h*l + l*w\n",
    "\n",
    "input2 = Input(2, line_parser=integers)\n",
    "assert 1606483 == sum(map(surface_area_with_slack, input2))"
   ]
  },
  {
   "cell_type": "code",
   "execution_count": null,
   "metadata": {
    "pycharm": {
     "is_executing": true,
     "name": "#%%\n"
    }
   },
   "outputs": [],
   "source": [
    "def required_ribbon(dimensions):\n",
    "    l, w, h = sorted(dimensions)\n",
    "    return 2 * (l + w) + l * w * h\n",
    "    \n",
    "assert 34 == required_ribbon((2,3,4))\n",
    "assert 14 == required_ribbon((1,1,10))\n",
    "assert 3842356 == sum(map(required_ribbon, input2))\n"
   ]
  },
  {
   "cell_type": "markdown",
   "metadata": {
    "pycharm": {
     "name": "#%% md\n"
    }
   },
   "source": [
    "### Day 3"
   ]
  },
  {
   "cell_type": "code",
   "execution_count": null,
   "metadata": {
    "pycharm": {
     "is_executing": true,
     "name": "#%%\n"
    }
   },
   "outputs": [],
   "source": [
    "# Headings: HU, HD, HR, HL = Head up, down, right, left\n",
    "HU = complex(0, -1)\n",
    "HD = -HU\n",
    "HR = complex(1, 0)\n",
    "HL = -HR\n",
    "\n",
    "headings = {'>': HR, '<': HL, '^': HU, 'v': HD}\n",
    "\n",
    "def how_many_unique_houses(directions):\n",
    "    location = complex(0,0)\n",
    "    houses_received_presents = {location}\n",
    "    for d in directions:\n",
    "        location += headings[d]\n",
    "        houses_received_presents.add(location)\n",
    "        \n",
    "    return len(houses_received_presents)\n",
    "        \n",
    "assert 2 == how_many_unique_houses('>')\n",
    "assert 4 == how_many_unique_houses('^>v<')\n",
    "assert 2 == how_many_unique_houses('^v^v^v^v^v')\n",
    "\n",
    "input3 = cat(Input(3))\n",
    "assert 2572 == how_many_unique_houses(input3)\n"
   ]
  },
  {
   "cell_type": "code",
   "execution_count": null,
   "metadata": {
    "pycharm": {
     "is_executing": true,
     "name": "#%%\n"
    }
   },
   "outputs": [],
   "source": [
    "def how_many_unique_houses_robo_santa(directions):\n",
    "    santa_location, robo_santa_location = complex(0,0), complex(0,0)\n",
    "    presents = {santa_location}\n",
    "    for s, r in zip(directions[0::2], directions[1::2]):\n",
    "        santa_location += headings[s]\n",
    "        robo_santa_location += headings[r]\n",
    "        presents |= {santa_location, robo_santa_location}\n",
    "    print(presents) \n",
    "    return len(presents)\n",
    "        \n",
    "assert 3 == how_many_unique_houses_robo_santa('^v')\n",
    "assert 3 == how_many_unique_houses_robo_santa('^>v<')\n",
    "assert 11 == how_many_unique_houses_robo_santa('^v^v^v^v^v')\n",
    "\n",
    "input3 = cat(Input(3))\n",
    "assert 2631 == how_many_unique_houses_robo_santa(input3)\n",
    "\n"
   ]
  },
  {
   "cell_type": "markdown",
   "metadata": {
    "pycharm": {
     "name": "#%% md\n"
    }
   },
   "source": [
    "### Day 4"
   ]
  },
  {
   "cell_type": "code",
   "execution_count": null,
   "metadata": {
    "pycharm": {
     "is_executing": true,
     "name": "#%%\n"
    }
   },
   "outputs": [],
   "source": [
    "from hashlib import md5\n",
    "\n",
    "def crack_secret_key(key, zeros=5):\n",
    "    i = 0\n",
    "    while True:\n",
    "        to_hash = key + str(i)\n",
    "        hashed = md5(to_hash.encode()).hexdigest()\n",
    "        if hashed[:zeros] == '0'*zeros:\n",
    "            return i\n",
    "        i += 1\n",
    "\n",
    "assert 609043 == crack_secret_key('abcdef')\n",
    "assert 1048970 == crack_secret_key('pqrstuv')\n",
    "\n",
    "input4 = 'yzbqklnj'\n",
    "assert 282749 == crack_secret_key(input4, zeros=5)\n",
    "assert 9962624 == crack_secret_key(input4, zeros=6)"
   ]
  },
  {
   "cell_type": "markdown",
   "metadata": {
    "pycharm": {
     "name": "#%% md\n"
    }
   },
   "source": [
    "### Day 5"
   ]
  },
  {
   "cell_type": "code",
   "execution_count": null,
   "metadata": {
    "pycharm": {
     "is_executing": true,
     "name": "#%%\n"
    }
   },
   "outputs": [],
   "source": [
    "def is_nice_string(s):\n",
    "    return any(a == b for a, b in zip(s[:-1], s[1:])) and \\\n",
    "           sum(1 for i in s if i in 'aeiou') >= 3 and \\\n",
    "           not any(x in s for x in {'ab', 'cd', 'pq', 'xy'})\n",
    "\n",
    "assert True == is_nice_string('ugknbfddgicrmopn')\n",
    "assert True == is_nice_string('aaa')\n",
    "assert False == is_nice_string('jchzalrnumimnmhp')\n",
    "assert False == is_nice_string('haegwjzuvuyypxyu')\n",
    "assert False == is_nice_string('dvszwmarrgswjxmb')\n",
    "\n",
    "input5 = Input(5)\n",
    "assert 236 == sum(1 for i in input5 if is_nice_string(i))"
   ]
  },
  {
   "cell_type": "code",
   "execution_count": null,
   "metadata": {
    "pycharm": {
     "is_executing": true,
     "name": "#%%\n"
    }
   },
   "outputs": [],
   "source": [
    "def is_nice_string2(s):\n",
    "    return any(s[i:i+2] in s[i+2:] for i in range(len(s)-3)) and \\\n",
    "           any(a == c for a,c in zip(s, s[2:]))\n",
    "    \n",
    "assert True == is_nice_string2('qjhvhtzxzqqjkmpb')\n",
    "assert True == is_nice_string2('xxyxx')\n",
    "assert False == is_nice_string2('uurcxstgmygtbstg')\n",
    "assert False == is_nice_string2('ieodomkazucvgmuy')\n",
    "assert False == is_nice_string2('ugknbfddgicrmopn')\n",
    "assert False == is_nice_string2('aaa')\n",
    "assert False == is_nice_string2('jchzalrnumimnmhp')\n",
    "assert False == is_nice_string2('haegwjzuvuyypxyu')\n",
    "assert False == is_nice_string2('dvszwmarrgswjxmb')\n",
    "\n",
    "assert 51 == sum(1 for i in input5 if is_nice_string2(i))"
   ]
  },
  {
   "cell_type": "markdown",
   "metadata": {
    "pycharm": {
     "name": "#%% md\n"
    }
   },
   "source": [
    "### Day 6"
   ]
  },
  {
   "cell_type": "code",
   "execution_count": null,
   "metadata": {
    "pycharm": {
     "is_executing": true,
     "name": "#%%\n"
    }
   },
   "outputs": [],
   "source": [
    "def execute(instructions, actions, lights = None):\n",
    "    lights = [[False]*1000 for _ in range(1000)] if lights is None else lights\n",
    "    instructions = re.findall(\"(toggle|turn on|turn off)\\s(\\d*),(\\d*)\\sthrough\\s(\\d*),(\\d*)\", instructions)\n",
    "    for instr in instructions:\n",
    "        a, x0, y0, x1, y1 = instr\n",
    "        coordinates = ((x, y) for x in rangei(int(x0), int(x1)) for y in rangei(int(y0), int(y1)))\n",
    "        for x, y in coordinates: \n",
    "            lights[x][y] = actions[a](lights[x][y])\n",
    "    return lights\n",
    "\n",
    "part_1 = {\n",
    "    'toggle': lambda x: 0 if x == 1 else 1, \n",
    "    'turn on': lambda _: 1, \n",
    "    'turn off': lambda _: 0, \n",
    "}\n",
    "assert all(execute('turn on 0,0 through 999,999', part_1))\n",
    "assert all(execute('toggle 0,0 through 0,999', part_1)[0])\n",
    "assert all(i[0] for i in execute('toggle 0,0 through 999,0', part_1))\n",
    "\n",
    "input6 = cat(Input(6))\n",
    "assert 377891 == sum(i for sublist in execute(input6, part_1) for i in sublist)"
   ]
  },
  {
   "cell_type": "code",
   "execution_count": null,
   "metadata": {
    "pycharm": {
     "is_executing": true,
     "name": "#%%\n"
    }
   },
   "outputs": [],
   "source": [
    "part_2 = {\n",
    "    'toggle': lambda x: x + 2, \n",
    "    'turn on': lambda x: x + 1, \n",
    "    'turn off': lambda x: max(x - 1, 0), \n",
    "}\n",
    "\n",
    "assert 14110788 == sum(i for sublist in execute(input6, part_2) for i in sublist)"
   ]
  },
  {
   "cell_type": "markdown",
   "metadata": {
    "pycharm": {
     "name": "#%% md\n"
    }
   },
   "source": [
    "### Day 7"
   ]
  },
  {
   "cell_type": "code",
   "execution_count": 4,
   "metadata": {
    "pycharm": {
     "is_executing": false,
     "name": "#%%\n"
    }
   },
   "outputs": [
    {
     "name": "stdout",
     "text": [
      "1234\n"
     ],
     "output_type": "stream"
    }
   ],
   "source": [
    "@lru_cache()\n",
    "def get_value(key):\n",
    "    try:\n",
    "        return int(key)\n",
    "    except ValueError:\n",
    "        pass\n",
    "\n",
    "    cmd = data[key]\n",
    "\n",
    "    if \"NOT\" in cmd:      return ~get_value(cmd[1])\n",
    "    elif \"AND\" in cmd:    return get_value(cmd[0]) & get_value(cmd[2])\n",
    "    elif \"OR\" in cmd:     return get_value(cmd[0]) | get_value(cmd[2])\n",
    "    elif \"LSHIFT\" in cmd: return get_value(cmd[0]) << get_value(cmd[2])\n",
    "    elif \"RSHIFT\" in cmd: return get_value(cmd[0]) >> get_value(cmd[2])\n",
    "    else:                 return get_value(cmd[0])\n",
    "    \n",
    "data = {}\n",
    "for line in Input(7):\n",
    "    command, key = line.split(\" -> \")\n",
    "    data[key.strip()] = command.split(' ')\n",
    "\n",
    "assert 16076 == get_value(\"a\")"
   ]
  },
  {
   "cell_type": "code",
   "execution_count": 5,
   "outputs": [],
   "source": [
    "data[\"b\"] = str(get_value(\"a\"))\n",
    "get_value.cache_clear()\n",
    "assert 32790 == get_value(\"a\")"
   ],
   "metadata": {
    "collapsed": false,
    "pycharm": {
     "name": "#%%\n",
     "is_executing": false
    }
   }
  },
  {
   "cell_type": "markdown",
   "metadata": {
    "pycharm": {
     "name": "#%% md\n"
    }
   },
   "source": [
    "### Day 8"
   ]
  },
  {
   "cell_type": "code",
   "execution_count": null,
   "metadata": {
    "pycharm": {
     "is_executing": true,
     "name": "#%%\n"
    }
   },
   "outputs": [],
   "source": [
    "input8 = Input(8)\n",
    "\n",
    "assert 1333 == sum(len(line) - len(eval(line)) for line in input8)"
   ]
  },
  {
   "cell_type": "markdown",
   "metadata": {},
   "source": [
    "Need more work on this one..."
   ]
  },
  {
   "cell_type": "code",
   "execution_count": null,
   "metadata": {
    "pycharm": {
     "name": "#%%\n",
     "is_executing": true
    }
   },
   "outputs": [],
   "source": [
    "sum(len(\"\\\"{}\\\"\".format(re.escape(line))) - len(line) for line in \"\\\"abc\\\"\")"
   ]
  },
  {
   "cell_type": "markdown",
   "metadata": {},
   "source": [
    "### Day 9"
   ]
  },
  {
   "cell_type": "code",
   "execution_count": null,
   "metadata": {
    "pycharm": {
     "is_executing": true
    }
   },
   "outputs": [],
   "source": [
    "test = \"\"\"London to Dublin = 464\\nLondon to Belfast = 518\\nDublin to Belfast = 141\\n\"\"\"\n",
    "\n",
    "input9 = Input(9)\n",
    "\n",
    "src, _, dst, _, dist = input9[0].split()\n"
   ]
  },
  {
   "cell_type": "markdown",
   "metadata": {
    "pycharm": {
     "name": "#%% md\n"
    }
   },
   "source": [
    "### Day 10"
   ]
  },
  {
   "cell_type": "code",
   "execution_count": null,
   "outputs": [],
   "source": [
    "repeat_and_say = lambda x: ''.join(str(sum(1 for _ in k)) + i for i, k in groupby(x))\n",
    "\n",
    "assert 252594 == len(repeat(repeat_and_say, 40, '1113222113'))"
   ],
   "metadata": {
    "collapsed": false,
    "pycharm": {
     "name": "#%%\n",
     "is_executing": true
    }
   }
  },
  {
   "cell_type": "code",
   "execution_count": null,
   "outputs": [],
   "source": [
    "assert 3579328 == len(repeat(repeat_and_say, 50, '1113222113'))\n"
   ],
   "metadata": {
    "collapsed": false,
    "pycharm": {
     "name": "#%%\n",
     "is_executing": true
    }
   }
  },
  {
   "cell_type": "code",
   "execution_count": null,
   "outputs": [],
   "source": [
    "\n"
   ],
   "metadata": {
    "collapsed": false,
    "pycharm": {
     "name": "#%%\n",
     "is_executing": true
    }
   }
  }
 ],
 "metadata": {
  "kernelspec": {
   "display_name": "Python 3",
   "language": "python",
   "name": "python3"
  },
  "language_info": {
   "codemirror_mode": {
    "name": "ipython",
    "version": 3
   },
   "file_extension": ".py",
   "mimetype": "text/x-python",
   "name": "python",
   "nbconvert_exporter": "python",
   "pygments_lexer": "ipython3",
   "version": "3.7.4"
  },
  "pycharm": {
   "stem_cell": {
    "cell_type": "raw",
    "source": [],
    "metadata": {
     "collapsed": false
    }
   }
  }
 },
 "nbformat": 4,
 "nbformat_minor": 1
}