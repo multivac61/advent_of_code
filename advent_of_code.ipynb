{
 "cells": [
  {
   "cell_type": "code",
   "execution_count": 30,
   "outputs": [],
   "source": [
    "import re\n",
    "from collections import Counter, defaultdict, namedtuple, deque\n",
    "from itertools import chain, cycle, product, islice, count as count_from, groupby, takewhile, permutations, dropwhile\n",
    "\n",
    "from cmath import phase, pi\n",
    "\n",
    "from functools import lru_cache, total_ordering, partial\n",
    "\n",
    "from copy import deepcopy\n",
    "\n",
    "from operator import itemgetter\n",
    "\n",
    "from itertools import islice\n",
    "\n",
    "from math import gcd, factorial\n",
    "from functools import reduce\n",
    "from textwrap import wrap\n",
    "\n",
    "infinity = float('inf')\n",
    "bignum = 10 ** 100\n",
    "\n",
    "up, down, left, right = -1j, 1j, -1, 1\n",
    "\n",
    "\n",
    "def Input(day, line_parser=str.strip, file_template='data/advent2015/input{}.txt'):\n",
    "    \"\"\"For this day's input file, return a tuple of each line parsed by `line_parser`.\"\"\"\n",
    "    return mapt(line_parser, open(file_template.format(day)))\n",
    "\n",
    "\n",
    "def integers(text):\n",
    "    \"\"\"A tuple of all integers in a string (ignore other characters).\"\"\"\n",
    "    return mapt(int, re.findall(r'-?\\d+', text))\n",
    "\n",
    "\n",
    "def comma_integers(text):\n",
    "    \"\"\"A list of comma separated integers in a string.\"\"\"\n",
    "    return list(map(int, map(text, str.split(','))))\n",
    "\n",
    "\n",
    "def mapt(fn, *args):\n",
    "    \"\"\"Do a map, and make the results into a tuple.\"\"\"\n",
    "    return tuple(map(fn, *args))\n",
    "\n",
    "\n",
    "def first(iterable, default=None):\n",
    "    \"\"\"Return first item in iterable, or default.\"\"\"\n",
    "    return next(iter(iterable), default)\n",
    "\n",
    "\n",
    "def nth(iterable, n):\n",
    "    return next(islice(iter(iterable), n, n + 1))\n",
    "\n",
    "\n",
    "cat = ''.join\n",
    "fs = frozenset\n",
    "\n",
    "\n",
    "def rangei(start, end, step=1):\n",
    "    \"\"\"Inclusive, range from start to end: rangei(a, b) = range(a, b+1).\"\"\"\n",
    "    return range(start, end + 1, step)\n",
    "\n",
    "\n",
    "def quantify(iterable, pred=bool):\n",
    "    \"\"\"Count how many items in iterable have pred(item) true.\"\"\"\n",
    "    return sum(map(pred, iterable))\n",
    "\n",
    "\n",
    "def multimap(items):\n",
    "    \"\"\"Given (key, val) pairs, return {key: [val, ....], ...}.\"\"\"\n",
    "    result = defaultdict(list)\n",
    "    for key, val in items:\n",
    "        result[key].append(val)\n",
    "    return result\n",
    "\n",
    "\n",
    "def repeat(func, n, x):\n",
    "    \"\"\"Call function func n-times with initial argument x\"\"\"\n",
    "    for _ in range(n):\n",
    "        x = func(x)\n",
    "    return x\n",
    "\n",
    "\n",
    "def chunks(iterable, n):\n",
    "    it = iter(iterable)\n",
    "    while True:\n",
    "        chunk_it = islice(it, n)\n",
    "        try:\n",
    "            first_el = next(chunk_it)\n",
    "        except StopIteration:\n",
    "            return\n",
    "        yield chain((first_el,), chunk_it)\n",
    "\n",
    "\n",
    "def manhattan(z, w):\n",
    "    return quantify((z.real, z.imag, w.real, w.imag), abs)\n"
   ],
   "metadata": {
    "collapsed": false,
    "pycharm": {
     "name": "#%%\n",
     "is_executing": false
    }
   }
  },
  {
   "cell_type": "markdown",
   "metadata": {
    "pycharm": {
     "name": "#%% md\n"
    }
   },
   "source": [
    "### Day 1"
   ]
  },
  {
   "cell_type": "code",
   "execution_count": 2,
   "metadata": {
    "pycharm": {
     "is_executing": false,
     "name": "#%%\n"
    }
   },
   "outputs": [],
   "source": [
    "stairs = lambda s: 1 if s == '(' else -1\n",
    "\n",
    "def santa_stairs(steps): return sum(map(stairs, steps))\n",
    "\n",
    "assert 0 == santa_stairs(\"()()\") == santa_stairs(\"))((\")\n",
    "assert 3 == santa_stairs(\"(()(()(\") == santa_stairs(\"(((\") == santa_stairs(\"))(((((\")\n",
    "assert -1 == santa_stairs(\"())\") == santa_stairs(\"))(\")\n",
    "\n",
    "input1 = cat(Input(\"1\"))\n",
    "assert 232 == santa_stairs(input1)"
   ]
  },
  {
   "cell_type": "code",
   "execution_count": 3,
   "metadata": {
    "pycharm": {
     "is_executing": false,
     "name": "#%%\n"
    }
   },
   "outputs": [],
   "source": [
    "def when_enter_basement(steps):\n",
    "    current_floor = 0\n",
    "    for i, s in enumerate(steps):\n",
    "        current_floor += stairs(s)\n",
    "        if current_floor < 0: return i + 1\n",
    "\n",
    "assert 1783 == when_enter_basement(input1)\n"
   ]
  },
  {
   "cell_type": "markdown",
   "metadata": {
    "pycharm": {
     "name": "#%% md\n"
    }
   },
   "source": [
    "### Day 2"
   ]
  },
  {
   "cell_type": "code",
   "execution_count": 4,
   "metadata": {
    "pycharm": {
     "is_executing": false,
     "name": "#%%\n"
    }
   },
   "outputs": [],
   "source": [
    "def surface_area_with_slack(dimensions):\n",
    "    l, w, h = sorted(dimensions)\n",
    "    return 2*l*w + 2*w*h + 2*h*l + l*w\n",
    "\n",
    "input2 = Input(2, line_parser=integers)\n",
    "assert 1606483 == sum(map(surface_area_with_slack, input2))"
   ]
  },
  {
   "cell_type": "code",
   "execution_count": 5,
   "metadata": {
    "pycharm": {
     "is_executing": false,
     "name": "#%%\n"
    }
   },
   "outputs": [],
   "source": [
    "def required_ribbon(dimensions):\n",
    "    l, w, h = sorted(dimensions)\n",
    "    return 2 * (l + w) + l * w * h\n",
    "    \n",
    "assert 34 == required_ribbon((2,3,4))\n",
    "assert 14 == required_ribbon((1,1,10))\n",
    "assert 3842356 == sum(map(required_ribbon, input2))\n"
   ]
  },
  {
   "cell_type": "markdown",
   "metadata": {
    "pycharm": {
     "name": "#%% md\n"
    }
   },
   "source": [
    "### Day 3"
   ]
  },
  {
   "cell_type": "code",
   "execution_count": 35,
   "metadata": {
    "pycharm": {
     "is_executing": false,
     "name": "#%%\n"
    }
   },
   "outputs": [],
   "source": [
    "headings = {'>': right, '<': left, '^': up, 'v': down}\n",
    "\n",
    "def unique_houses(directions):\n",
    "    location, houses_received_presents = 0, {0}\n",
    "    for d in directions:\n",
    "        location += headings[d]\n",
    "        houses_received_presents.add(location)\n",
    "        \n",
    "    return len(houses_received_presents)\n",
    "        \n",
    "assert 2 == unique_houses('>')\n",
    "assert 4 == unique_houses('^>v<')\n",
    "assert 2 == unique_houses('^v^v^v^v^v')\n",
    "\n",
    "input3 = cat(Input(3))\n",
    "assert 2572 == unique_houses(input3)"
   ]
  },
  {
   "cell_type": "code",
   "execution_count": 36,
   "metadata": {
    "pycharm": {
     "is_executing": false,
     "name": "#%%\n"
    }
   },
   "outputs": [],
   "source": [
    "def unique_houses_robo_santa(directions):\n",
    "    santa_location, robo_santa_location = complex(0,0), complex(0,0)\n",
    "    presents = {santa_location}\n",
    "    for s, r in zip(directions[0::2], directions[1::2]):\n",
    "        santa_location += headings[s]\n",
    "        robo_santa_location += headings[r]\n",
    "        presents |= {santa_location, robo_santa_location}\n",
    "    return len(presents)\n",
    "        \n",
    "assert 3 == unique_houses_robo_santa('^v')\n",
    "assert 3 == unique_houses_robo_santa('^>v<')\n",
    "assert 11 == unique_houses_robo_santa('^v^v^v^v^v')\n",
    "\n",
    "input3 = cat(Input(3))\n",
    "assert 2631 == unique_houses_robo_santa(input3)"
   ]
  },
  {
   "cell_type": "markdown",
   "metadata": {
    "pycharm": {
     "name": "#%% md\n"
    }
   },
   "source": [
    "### Day 4"
   ]
  },
  {
   "cell_type": "code",
   "execution_count": 8,
   "metadata": {
    "pycharm": {
     "is_executing": false,
     "name": "#%%\n"
    }
   },
   "outputs": [],
   "source": [
    "from hashlib import md5\n",
    "\n",
    "def crack_secret_key(key, zeros=5):\n",
    "    i = 0\n",
    "    while True:\n",
    "        to_hash = key + str(i)\n",
    "        hashed = md5(to_hash.encode()).hexdigest()\n",
    "        if hashed[:zeros] == '0'*zeros:\n",
    "            return i\n",
    "        i += 1\n",
    "\n",
    "assert 609043 == crack_secret_key('abcdef')\n",
    "assert 1048970 == crack_secret_key('pqrstuv')\n",
    "\n",
    "input4 = 'yzbqklnj'\n",
    "assert 282749 == crack_secret_key(input4, zeros=5)\n",
    "assert 9962624 == crack_secret_key(input4, zeros=6)"
   ]
  },
  {
   "cell_type": "markdown",
   "metadata": {
    "pycharm": {
     "name": "#%% md\n"
    }
   },
   "source": [
    "### Day 5"
   ]
  },
  {
   "cell_type": "code",
   "execution_count": 9,
   "metadata": {
    "pycharm": {
     "is_executing": false,
     "name": "#%%\n"
    }
   },
   "outputs": [],
   "source": [
    "def is_nice_string(s):\n",
    "    return any(a == b for a, b in zip(s[:-1], s[1:])) and \\\n",
    "           sum(1 for i in s if i in 'aeiou') >= 3 and \\\n",
    "           not any(x in s for x in {'ab', 'cd', 'pq', 'xy'})\n",
    "\n",
    "assert True == is_nice_string('ugknbfddgicrmopn')\n",
    "assert True == is_nice_string('aaa')\n",
    "assert False == is_nice_string('jchzalrnumimnmhp')\n",
    "assert False == is_nice_string('haegwjzuvuyypxyu')\n",
    "assert False == is_nice_string('dvszwmarrgswjxmb')\n",
    "\n",
    "input5 = Input(5)\n",
    "assert 236 == sum(1 for i in input5 if is_nice_string(i))"
   ]
  },
  {
   "cell_type": "code",
   "execution_count": 10,
   "metadata": {
    "pycharm": {
     "is_executing": false,
     "name": "#%%\n"
    }
   },
   "outputs": [],
   "source": [
    "def is_nice_string2(s):\n",
    "    return any(s[i:i+2] in s[i+2:] for i in range(len(s)-3)) and \\\n",
    "           any(a == c for a,c in zip(s, s[2:]))\n",
    "    \n",
    "assert True == is_nice_string2('qjhvhtzxzqqjkmpb')\n",
    "assert True == is_nice_string2('xxyxx')\n",
    "assert False == is_nice_string2('uurcxstgmygtbstg')\n",
    "assert False == is_nice_string2('ieodomkazucvgmuy')\n",
    "assert False == is_nice_string2('ugknbfddgicrmopn')\n",
    "assert False == is_nice_string2('aaa')\n",
    "assert False == is_nice_string2('jchzalrnumimnmhp')\n",
    "assert False == is_nice_string2('haegwjzuvuyypxyu')\n",
    "assert False == is_nice_string2('dvszwmarrgswjxmb')\n",
    "\n",
    "assert 51 == sum(1 for i in input5 if is_nice_string2(i))"
   ]
  },
  {
   "cell_type": "markdown",
   "metadata": {
    "pycharm": {
     "name": "#%% md\n"
    }
   },
   "source": [
    "### Day 6"
   ]
  },
  {
   "cell_type": "code",
   "execution_count": 11,
   "metadata": {
    "pycharm": {
     "is_executing": false,
     "name": "#%%\n"
    }
   },
   "outputs": [],
   "source": [
    "def execute(instructions, actions, lights = None):\n",
    "    lights = [[False]*1000 for _ in range(1000)] if lights is None else lights\n",
    "    instructions = re.findall(\"(toggle|turn on|turn off)\\s(\\d*),(\\d*)\\sthrough\\s(\\d*),(\\d*)\", instructions)\n",
    "    for (a, x0, y0, x1, y1) in instructions:\n",
    "        coordinates = ((x, y) for x in rangei(int(x0), int(x1)) for y in rangei(int(y0), int(y1)))\n",
    "        for x, y in coordinates: \n",
    "            lights[x][y] = actions[a](lights[x][y])\n",
    "    return lights\n",
    "\n",
    "fuel_needed = {\n",
    "    'toggle': lambda x: 0 if x == 1 else 1, \n",
    "    'turn on': lambda _: 1, \n",
    "    'turn off': lambda _: 0, \n",
    "}\n",
    "\n",
    "assert all(execute('turn on 0,0 through 999,999', fuel_needed))\n",
    "assert all(execute('toggle 0,0 through 0,999', fuel_needed)[0])\n",
    "assert all(i[0] for i in execute('toggle 0,0 through 999,0', fuel_needed))\n",
    "\n",
    "input6 = cat(Input(6))\n",
    "assert 377891 == sum(i for sublist in execute(input6, fuel_needed) for i in sublist)"
   ]
  },
  {
   "cell_type": "code",
   "execution_count": null,
   "metadata": {
    "pycharm": {
     "is_executing": true,
     "name": "#%%\n"
    }
   },
   "outputs": [],
   "source": [
    "part_2 = {\n",
    "    'toggle': lambda x: x + 2, \n",
    "    'turn on': lambda x: x + 1, \n",
    "    'turn off': lambda x: max(x - 1, 0), \n",
    "}\n",
    "\n",
    "assert 14110788 == sum(i for sublist in execute(input6, part_2) for i in sublist)"
   ]
  },
  {
   "cell_type": "markdown",
   "metadata": {
    "pycharm": {
     "name": "#%% md\n"
    }
   },
   "source": [
    "### Day 7"
   ]
  },
  {
   "cell_type": "code",
   "execution_count": 9,
   "metadata": {
    "pycharm": {
     "is_executing": true,
     "name": "#%%\n"
    }
   },
   "outputs": [],
   "source": [
    "@lru_cache()\n",
    "def get_value(key):\n",
    "    try:\n",
    "        return int(key)\n",
    "    except ValueError:\n",
    "        pass\n",
    "\n",
    "    cmd = data[key]\n",
    "\n",
    "    if \"NOT\" in cmd:      return ~get_value(cmd[1])\n",
    "    elif \"AND\" in cmd:    return get_value(cmd[0]) & get_value(cmd[2])\n",
    "    elif \"OR\" in cmd:     return get_value(cmd[0]) | get_value(cmd[2])\n",
    "    elif \"LSHIFT\" in cmd: return get_value(cmd[0]) << get_value(cmd[2])\n",
    "    elif \"RSHIFT\" in cmd: return get_value(cmd[0]) >> get_value(cmd[2])\n",
    "    else:                 return get_value(cmd[0])\n",
    "\n",
    "def generate_data(text):\n",
    "    return {tokens[-1] : tokens[:-2] for tokens in map(str.split, text)}\n",
    "\n",
    "data = generate_data(Input(7))\n",
    "\n",
    "assert 16076 == get_value(\"a\")"
   ]
  },
  {
   "cell_type": "code",
   "execution_count": 10,
   "metadata": {
    "pycharm": {
     "is_executing": true,
     "name": "#%%\n"
    }
   },
   "outputs": [],
   "source": [
    "data[\"b\"] = str(get_value(\"a\"))\n",
    "get_value.cache_clear()\n",
    "assert 32790 == get_value(\"a\")"
   ]
  },
  {
   "cell_type": "markdown",
   "metadata": {
    "pycharm": {
     "name": "#%% md\n"
    }
   },
   "source": [
    "### Day 8"
   ]
  },
  {
   "cell_type": "code",
   "execution_count": null,
   "metadata": {
    "pycharm": {
     "is_executing": true,
     "name": "#%%\n"
    }
   },
   "outputs": [],
   "source": [
    "input8 = Input(8)\n",
    "\n",
    "assert 1333 == sum(len(line) - len(eval(line)) for line in input8)"
   ]
  },
  {
   "cell_type": "markdown",
   "metadata": {},
   "source": [
    "Need more work on this one..."
   ]
  },
  {
   "cell_type": "code",
   "execution_count": null,
   "metadata": {
    "pycharm": {
     "is_executing": true,
     "name": "#%%\n"
    }
   },
   "outputs": [],
   "source": [
    "sum(len(\"\\\"{}\\\"\".format(re.escape(line))) - len(line) for line in \"\\\"abc\\\"\")"
   ]
  },
  {
   "cell_type": "markdown",
   "metadata": {},
   "source": [
    "### Day 9"
   ]
  },
  {
   "cell_type": "code",
   "execution_count": null,
   "metadata": {
    "pycharm": {
     "is_executing": true
    }
   },
   "outputs": [],
   "source": [
    "test = \"\"\"London to Dublin = 464\\nLondon to Belfast = 518\\nDublin to Belfast = 141\"\"\"\n",
    "\n",
    "def parse(text):\n",
    "    distances, cities = dict(), set()\n",
    "    for (origin, destination, distance) in re.findall(\"(\\w+)\\sto\\s(\\w+)\\s=\\s(\\d*)\", text):\n",
    "        distances[fs((origin, destination))] = int(distance)\n",
    "        cities |= {origin, destination}\n",
    "    return distances, cities\n",
    "    \n",
    "def find_dist(distances, cities, cmp=min):\n",
    "    total = []\n",
    "    for p in permutations(cities):\n",
    "        total.append(sum(distances[fs((c1, c2))] for (c1, c2) in zip(p[:-1], p[1:])))\n",
    "    return cmp(total)\n",
    "\n",
    "input9 = cat(Input(9))\n",
    "assert 207 == find_dist(*parse(input9), cmp=min)"
   ]
  },
  {
   "cell_type": "code",
   "execution_count": null,
   "metadata": {
    "pycharm": {
     "is_executing": true,
     "name": "#%%\n"
    }
   },
   "outputs": [],
   "source": [
    "assert 804 == find_dist(*parse(input9), cmp=max)"
   ]
  },
  {
   "cell_type": "markdown",
   "metadata": {
    "pycharm": {
     "name": "#%% md\n"
    }
   },
   "source": [
    "### Day 10"
   ]
  },
  {
   "cell_type": "code",
   "execution_count": null,
   "metadata": {
    "pycharm": {
     "is_executing": true,
     "name": "#%%\n"
    }
   },
   "outputs": [],
   "source": [
    "repeat_and_say = lambda x: ''.join(str(sum(1 for _ in k)) + i for i, k in groupby(x))\n",
    "\n",
    "assert 252594 == len(repeat(repeat_and_say, 40, '1113222113'))"
   ]
  },
  {
   "cell_type": "code",
   "execution_count": null,
   "metadata": {
    "pycharm": {
     "is_executing": true,
     "name": "#%%\n"
    }
   },
   "outputs": [],
   "source": [
    "assert 3579328 == len(repeat(repeat_and_say, 50, '1113222113'))"
   ]
  },
  {
   "cell_type": "markdown",
   "metadata": {
    "pycharm": {
     "is_executing": true,
     "name": "#%% md\n"
    }
   },
   "source": [
    "# 2019 "
   ]
  },
  {
   "cell_type": "markdown",
   "metadata": {
    "pycharm": {
     "name": "#%% md\n"
    }
   },
   "source": [
    "## Day 1"
   ]
  },
  {
   "cell_type": "code",
   "execution_count": null,
   "metadata": {
    "pycharm": {
     "is_executing": true,
     "name": "#%%\n"
    }
   },
   "outputs": [],
   "source": [
    "input1 = Input(1, line_parser=int, file_template='data/advent2019/input{}.txt')\n",
    "\n",
    "fuel_needed = lambda mass: mass // 3 - 2\n",
    "\n",
    "assert 2 == quantify([12], fuel_needed)\n",
    "assert 2 == quantify([14], fuel_needed)\n",
    "assert 654 == quantify([1969], fuel_needed)\n",
    "assert 33583 == quantify([100756], fuel_needed)\n",
    "\n",
    "assert 3311492 == quantify(input1, fuel_needed)"
   ]
  },
  {
   "cell_type": "code",
   "execution_count": null,
   "metadata": {
    "pycharm": {
     "is_executing": true,
     "name": "#%%\n"
    }
   },
   "outputs": [],
   "source": [
    "def part_2(mass):\n",
    "    total_fuel = 0\n",
    "    while True:\n",
    "        mass = fuel_needed(mass)\n",
    "        if mass < 0: return total_fuel\n",
    "        total_fuel += mass\n",
    "\n",
    "assert 966 == part_2(1969)\n",
    "assert 50346 == part_2(100756)\n",
    "assert 4964376 == quantify(input1, part_2)"
   ]
  },
  {
   "cell_type": "markdown",
   "metadata": {
    "pycharm": {
     "name": "#%% md\n"
    }
   },
   "source": [
    "## Day 2"
   ]
  },
  {
   "cell_type": "code",
   "execution_count": null,
   "metadata": {
    "pycharm": {
     "is_executing": true,
     "name": "#%%\n"
    }
   },
   "outputs": [],
   "source": [
    "def part_1(code, state=None):\n",
    "    c = deepcopy(code)\n",
    "    if state: c[1:3] = state\n",
    "    try:\n",
    "        for (op, x, y, out) in chunks(c, 4):\n",
    "            if op == 1: c[out] = c[x] + c[y]\n",
    "            if op == 2: c[out] = c[x] * c[y]\n",
    "    except ValueError:\n",
    "        return c\n",
    "\n",
    "assert [2,0,0,0,99] == part_1([1,0,0,0,99])\n",
    "assert [2,3,0,6,99] == part_1([2,3,0,3,99])\n",
    "assert [30,1,1,4,2,5,6,0,99] == part_1([1,1,1,4,99,5,6,0,99])\n",
    "\n",
    "to_list = lambda text: list(map(int, re.findall(r'-?\\d+', text)))\n",
    "input2, = Input(2, line_parser=to_list, file_template='data/advent2019/input{}.txt')\n",
    "\n",
    "assert 3409710 == part_1(input2, [12, 2])[0]"
   ]
  },
  {
   "cell_type": "code",
   "execution_count": null,
   "metadata": {
    "pycharm": {
     "is_executing": true,
     "name": "#%%\n"
    }
   },
   "outputs": [],
   "source": [
    "def part_2(code):\n",
    "    for noun, verb in product(rangei(0, 99), repeat=2):\n",
    "        if 19690720 == part_1(code, (noun, verb))[0]:\n",
    "            return 100 * noun + verb\n",
    "        \n",
    "assert 7912 == part_2(input2)"
   ]
  },
  {
   "cell_type": "markdown",
   "metadata": {
    "pycharm": {
     "name": "#%% md\n"
    }
   },
   "source": [
    "## Day 3"
   ]
  },
  {
   "cell_type": "code",
   "execution_count": null,
   "metadata": {
    "pycharm": {
     "is_executing": true,
     "name": "#%%\n"
    }
   },
   "outputs": [],
   "source": [
    "headings = {'R': right, 'L': left, 'U': up, 'D': down}\n",
    "\n",
    "def part_1(p0, p1):\n",
    "    return min(manhattan(0, z) for z in set(p0) & set(p1))\n",
    "\n",
    "def parse(path):\n",
    "    cur, points = 0, []\n",
    "    for (heading, distance) in re.findall(\"(\\w)(\\d*)\", path):\n",
    "        for _ in range(int(distance)):\n",
    "            cur += headings[heading]\n",
    "            points.append(cur)\n",
    "    return points\n",
    "    \n",
    "test_1 = \"R75,D30,R83,U83,L12,D49,R71,U7,L72\\nU62,R66,U55,R34,D71,R55,D58,R83\"\n",
    "test_1 = mapt(parse, test_1.split())\n",
    "\n",
    "test_2 = \"R98,U47,R26,D63,R33,U87,L62,D20,R33,U53,R51\\nU98,R91,D20,R16,D67,R40,U7,R15,U6,R7\"\n",
    "test_2 = mapt(parse, test_2.split())\n",
    "\n",
    "assert 159 == part_1(*test_1)\n",
    "assert 135 == part_1(*test_2)\n",
    "\n",
    "input3 = Input(3, line_parser=parse, file_template='data/advent2019/input{}.txt')\n",
    "assert 399 == part_1(*input3)"
   ]
  },
  {
   "cell_type": "code",
   "execution_count": null,
   "metadata": {
    "pycharm": {
     "is_executing": true,
     "name": "#%%\n"
    }
   },
   "outputs": [],
   "source": [
    "def part_2(p0, p1):\n",
    "    return min(p0.index(i) + p1.index(i) for i in set(p0) & set(p1)) + 2\n",
    "    \n",
    "assert 610 == part_2(*test_1)\n",
    "assert 410 == part_2(*test_2)\n",
    "\n",
    "assert 15678 == part_2(*input3)"
   ]
  },
  {
   "cell_type": "markdown",
   "metadata": {
    "pycharm": {
     "name": "#%% md\n"
    }
   },
   "source": [
    "## Day 4"
   ]
  },
  {
   "cell_type": "code",
   "execution_count": null,
   "metadata": {
    "pycharm": {
     "is_executing": true,
     "name": "#%%\n"
    }
   },
   "outputs": [],
   "source": [
    "def is_valid_password(s):\n",
    "    return any(a == b for a, b in zip(s[:-1], s[1:])) and \\\n",
    "           all(a <= b for a, b in zip(s[:-1], s[1:]))\n",
    "\n",
    "assert True == is_valid_password('111111')\n",
    "assert False == is_valid_password('223450')\n",
    "assert False == is_valid_password('123789')\n",
    "\n",
    "input4 = mapt(str, rangei(152085, 670283))\n",
    "\n",
    "assert 1764 == quantify(input4, is_valid_password)"
   ]
  },
  {
   "cell_type": "code",
   "execution_count": null,
   "metadata": {
    "pycharm": {
     "is_executing": true,
     "name": "#%%\n"
    }
   },
   "outputs": [],
   "source": [
    "def is_valid_password_2(s):\n",
    "    return is_valid_password(s) and \\\n",
    "           any(sum(1 for _ in k) == 2 for _, k in groupby(s))\n",
    "\n",
    "assert True == is_valid_password_2('112233')\n",
    "assert False == is_valid_password_2('123444')\n",
    "assert True == is_valid_password_2('111122')\n",
    "\n",
    "assert 1196 == quantify(input4, is_valid_password_2)  # 802 is too low"
   ]
  },
  {
   "cell_type": "markdown",
   "metadata": {},
   "source": [
    "## Day 5"
   ]
  },
  {
   "cell_type": "code",
   "execution_count": null,
   "metadata": {
    "pycharm": {
     "is_executing": true,
     "name": "#%%\n"
    }
   },
   "outputs": [],
   "source": [
    "def execute(intcode, my_input=1, my_output=print):\n",
    "    intcode = deepcopy(intcode)\n",
    "    num_operands = (0, 3, 3, 1, 1, 2, 2, 3, 3)\n",
    "    ip = 0\n",
    "    while intcode[ip] != 99:\n",
    "        modes = [int(x) for x in f\"{intcode[ip]:0>5}\"[:3]][::-1]\n",
    "        instruction = int(f\"{intcode[ip]:0>5}\"[3:])\n",
    "        operands = [intcode[ip + x + 1] if modes[x] else intcode[intcode[ip + x + 1]] for x in\n",
    "                    range(num_operands[instruction])]\n",
    "        if instruction == 1:\n",
    "            intcode[intcode[ip + 3]] = operands[0] + operands[1]\n",
    "        elif instruction == 2:\n",
    "            intcode[intcode[ip + 3]] = operands[0] * operands[1]\n",
    "        elif instruction == 3:\n",
    "            intcode[intcode[ip + 1]] = my_input\n",
    "        elif instruction == 4:\n",
    "            my_output(operands[0])\n",
    "        elif instruction == 5:\n",
    "            ip = operands[1] - 3 if operands[0] != 0 else ip\n",
    "        elif instruction == 6:\n",
    "            ip = operands[1] - 3 if operands[0] == 0 else ip\n",
    "        elif instruction == 7:\n",
    "            intcode[intcode[ip + 3]] = int(operands[0] < operands[1])\n",
    "        elif instruction == 8:\n",
    "            intcode[intcode[ip + 3]] = int(operands[0] == operands[1])\n",
    "        else:\n",
    "            assert False\n",
    "        ip += num_operands[instruction] + 1\n",
    "\n",
    "\n",
    "input5, = Input(5, line_parser=comma_integers, file_template='data/advent2019/input{}.txt')\n",
    "\n",
    "execute(input5)"
   ]
  },
  {
   "cell_type": "code",
   "execution_count": null,
   "metadata": {
    "pycharm": {
     "is_executing": true,
     "name": "#%%\n"
    }
   },
   "outputs": [],
   "source": [
    "execute(input5, my_input=5)"
   ]
  },
  {
   "cell_type": "markdown",
   "metadata": {
    "pycharm": {
     "name": "#%% md\n"
    }
   },
   "source": [
    "## Day 6"
   ]
  },
  {
   "cell_type": "code",
   "execution_count": 11,
   "metadata": {
    "pycharm": {
     "is_executing": true,
     "name": "#%%\n"
    }
   },
   "outputs": [],
   "source": [
    "def generate_orbit_map(data):\n",
    "    return dict(row.split(')')[::-1] for row in data)\n",
    "\n",
    "\n",
    "def trace_path(orbit_map, orbit):\n",
    "    path = set()\n",
    "    while orbit != 'COM':\n",
    "        path.add(orbit := orbit_map[orbit])\n",
    "    return path\n",
    "\n",
    "\n",
    "orbit_map = generate_orbit_map(Input(6, file_template='data/advent2019/input{}.txt'))\n",
    "assert 144909 == sum(len(trace_path(orbit_map, planet)) for planet in orbit_map)"
   ]
  },
  {
   "cell_type": "code",
   "execution_count": 12,
   "metadata": {
    "pycharm": {
     "is_executing": true,
     "name": "#%%\n"
    }
   },
   "outputs": [],
   "source": [
    "assert 259 == len(trace_path(orbit_map, 'YOU') ^ trace_path(orbit_map, 'SAN'))"
   ]
  },
  {
   "cell_type": "markdown",
   "metadata": {},
   "source": [
    "## Day 7"
   ]
  },
  {
   "cell_type": "code",
   "execution_count": 20,
   "metadata": {},
   "outputs": [],
   "source": [
    "def execute(code, input_queue):\n",
    "    code = deepcopy(code)\n",
    "    num_operands = (0, 3, 3, 1, 1, 2, 2, 3, 3)\n",
    "    ip = 0\n",
    "    while code[ip] != 99:\n",
    "        modes = [int(x) for x in f\"{code[ip]:0>5}\"[:3]][::-1]\n",
    "        instruction = int(f\"{code[ip]:0>5}\"[3:])\n",
    "        operands = [code[ip + x + 1] if modes[x] else code[code[ip + x + 1]] for x in range(num_operands[instruction])]\n",
    "        # print(ip, instruction, modes, operands, code)\n",
    "        if instruction == 1:\n",
    "            code[code[ip + 3]] = operands[0] + operands[1]\n",
    "        elif instruction == 2:\n",
    "            code[code[ip + 3]] = operands[0] * operands[1]\n",
    "        elif instruction == 3:\n",
    "            code[code[ip + 1]] = input_queue.pop()\n",
    "        elif instruction == 4:\n",
    "            yield operands[0]\n",
    "        elif instruction == 5:\n",
    "            ip = (operands[1] - 3) if operands[0] != 0 else ip\n",
    "        elif instruction == 6:\n",
    "            ip = (operands[1] - 3) if operands[0] == 0 else ip\n",
    "        elif instruction == 7:\n",
    "            code[code[ip + 3]] = int(operands[0] < operands[1])\n",
    "        elif instruction == 8:\n",
    "            code[code[ip + 3]] = int(operands[0] == operands[1])\n",
    "\n",
    "        ip += num_operands[instruction] + 1\n",
    "    return StopIteration\n",
    "\n",
    "\n",
    "def parse_integers(day, file_template='data/advent2019/input{}.txt'):\n",
    "    return list(int(i) for line in open(file_template.format(day)) for i in line.split(','))\n",
    "\n",
    "\n",
    "input5 = parse_integers(5)\n",
    "assert 3176266 == next(execute(deepcopy(input5), input_queue=deque((5,))))\n",
    "\n",
    "\n",
    "def max_thruster_signal(code):\n",
    "    max_signal = -infinity\n",
    "    for p in permutations(range(5)):\n",
    "        y = 0\n",
    "        for i in range(5):\n",
    "            y = next(execute(code[:], input_queue=deque((y, p[i]))))\n",
    "        max_signal = max(y, max_signal)\n",
    "    return max_signal\n",
    "\n",
    "\n",
    "assert 999 == next(execute([3,21,1008,21,8,20,1005,20,22,107,8,21,20,1006,20,31,1106,0,36,98,0,0,1002,21,125,20,4,20,1105,1,46,104,999,1105,1,46,1101,1000,1,20,4,20,1105,1,46,98,99], input_queue=deque((7,))))\n",
    "assert 1000 == next(execute([3,21,1008,21,8,20,1005,20,22,107,8,21,20,1006,20,31,1106,0,36,98,0,0,1002,21,125,20,4,20,1105,1,46,104,999,1105,1,46,1101,1000,1,20,4,20,1105,1,46,98,99], input_queue=deque((8,))))\n",
    "assert 1001 == next(execute([3,21,1008,21,8,20,1005,20,22,107,8,21,20,1006,20,31,1106,0,36,98,0,0,1002,21,125,20,4,20,1105,1,46,104,999,1105,1,46,1101,1000,1,20,4,20,1105,1,46,98,99], input_queue=deque((88,))))\n",
    "\n",
    "assert 43210 == max_thruster_signal([3, 15, 3, 16, 1002, 16, 10, 16, 1, 16, 15, 15, 4, 15, 99, 0, 0])\n",
    "assert 54321 == max_thruster_signal([3,23,3,24,1002,24,10,24,1002,23,-1,23,101,5,23,23,1,24,23,23,4,23,99,0,0])\n",
    "assert 65210 == max_thruster_signal([3,31,3,32,1002,32,10,32,1001,31,-2,31,1007,31,0,33,1002,33,7,33,1,33,31,31,1,32,31,31,4,31,99,0,0,0])\n",
    "\n",
    "input7 = parse_integers(7)\n",
    "assert 262086 == max_thruster_signal(input7)"
   ]
  },
  {
   "cell_type": "code",
   "execution_count": 21,
   "metadata": {},
   "outputs": [],
   "source": [
    "def max_feedback_thruster_signal(code):\n",
    "    max_signal = -infinity\n",
    "    for phases in permutations(range(5, 10)):\n",
    "        input_queues = [deque((p,)) for p in phases]\n",
    "        thrusters = [execute(code, d) for d in input_queues]\n",
    "        y, is_halted = 0, False\n",
    "        while not is_halted:\n",
    "            try:\n",
    "                for (input_queue, thruster) in zip(input_queues, thrusters):\n",
    "                    input_queue.appendleft(y)\n",
    "                    y = next(thruster)\n",
    "            except StopIteration:\n",
    "                max_signal = max(y, max_signal)\n",
    "                is_halted = True\n",
    "    return max_signal\n",
    "\n",
    "assert 139629729 == max_feedback_thruster_signal( [3, 26, 1001, 26, -4, 26, 3, 27, 1002, 27, 2, 27, 1, 27, 26, 27, 4, 27, 1001, 28, -1, 28, 1005, 28, 6, 99, 0, 0, 5])\n",
    "assert 18216 == max_feedback_thruster_signal([3,52,1001,52,-5,52,3,53,1,52,56,54,1007,54,5,55,1005,55,26,1001,54, -5,54,1105,1,12,1,53,54,53,1008,54,0,55,1001,55,1,55,2,53,55,53,4, 53,1001,56,-1,56,1005,56,6,99,0,0,0,0,10])\n",
    "\n",
    "assert 5371621 == max_feedback_thruster_signal(input7)"
   ]
  },
  {
   "cell_type": "markdown",
   "metadata": {
    "pycharm": {
     "name": "#%% md\n"
    }
   },
   "source": [
    "## Day 8"
   ]
  },
  {
   "cell_type": "code",
   "execution_count": 33,
   "metadata": {
    "pycharm": {
     "is_executing": true,
     "name": "#%%\n"
    }
   },
   "outputs": [],
   "source": [
    "input8 = wrap(cat(Input(8, file_template='data/advent2019/input{}.txt')), 25 * 6)\n",
    "fewest_zeros = min(input8, key=lambda layer: layer.count('0'))\n",
    "assert 2159 == fewest_zeros.count('1') * fewest_zeros.count('2')"
   ]
  },
  {
   "cell_type": "code",
   "execution_count": 34,
   "metadata": {
    "pycharm": {
     "is_executing": true,
     "name": "#%%\n"
    }
   },
   "outputs": [
    {
     "name": "stdout",
     "output_type": "stream",
     "text": [
      " 11    11 1111 1  1 111  \n",
      "1  1    1    1 1  1 1  1 \n",
      "1       1   1  1111 1  1 \n",
      "1       1  1   1  1 111  \n",
      "1  1 1  1 1    1  1 1 1  \n",
      " 11   11  1111 1  1 1  1 \n"
     ]
    }
   ],
   "source": [
    "def parse_pixel(*layers):\n",
    "    return next(dropwhile('2'.__eq__, layers))\n",
    "\n",
    "\n",
    "parsed_pixles = ''.join(map(parse_pixel, *input8))\n",
    "print('\\n'.join(l.replace('0', ' ') for l in chunks(cat(parsed_pixles), 25)))"
   ]
  },
  {
   "cell_type": "markdown",
   "metadata": {
    "pycharm": {
     "name": "#%% md\n"
    }
   },
   "source": [
    "## Day 10"
   ]
  },
  {
   "cell_type": "code",
   "execution_count": 34,
   "metadata": {
    "pycharm": {
     "is_executing": false
    }
   },
   "outputs": [],
   "source": [
    "def parse(lines):\n",
    "    return set(complex(j, i) for (i, col) in enumerate(lines) for (j, num) in enumerate(col) if num == '#')\n",
    "\n",
    "\n",
    "def max_visible(asteroids):\n",
    "    return max(((a, len(set(phase(b-a) for b in asteroids - {a}))) for a in asteroids), key=itemgetter(1))\n",
    "\n",
    "\n",
    "\n",
    "small = '.#..#\\n.....\\n#####\\n....#\\n...##'.split('\\n')\n",
    "assert (3+4j, 8) == max_visible(parse(small))\n",
    "\n",
    "\n",
    "assert (5+8j, 33) == max_visible(parse('......#.#.\\n#..#.#....\\n..#######.\\n.#.#.###..\\n.#..#.....\\n..#....#.#\\n#..#....#.\\n.##.#..###\\n##...#..#.\\n.#....####'.split('\\n')))\n",
    "\n",
    "test = '''.#..##.###...#######\n",
    "##.############..##.\n",
    ".#.######.########.#\n",
    ".###.#######.####.#.\n",
    "#####.##.#.##.###.##\n",
    "..#####..#.#########\n",
    "####################\n",
    "#.####....###.#.#.##\n",
    "##.#################\n",
    "#####.##.###..####..\n",
    "..######..##.#######\n",
    "####.##.####...##..#\n",
    ".#####..#.######.###\n",
    "##...#.##########...\n",
    "#.##########.#######\n",
    ".####.#.###.###.#.##\n",
    "....##.##.###..#####\n",
    ".#.#.###########.###\n",
    "#.#.#.#####.####.###\n",
    "###.##.####.##.#..##'''.split('\\n')\n",
    "\n",
    "assert (11+13j, 210) == max_visible(parse(test))\n",
    "\n",
    "input10 = parse(Input(10, file_template='data/advent2019/input{}.txt'))\n",
    "assert ((23+29j), 263) == max_visible(input10)"
   ]
  },
  {
   "cell_type": "code",
   "execution_count": 35,
   "metadata": {
    "pycharm": {
     "is_executing": false
    }
   },
   "outputs": [],
   "source": [
    "def unwrap(phase):\n",
    "    return phase + (0 if phase >= 0 else 2 * pi)\n",
    "\n",
    "\n",
    "def closest_circle(asteroids, a=23 + 29j):\n",
    "    # set of all asteroids with minimum len for each phase\n",
    "    all_asteroids = sorted(set(((b, unwrap(phase(1j * (b - a))), abs(b - a)) for b in asteroids - {a})), key=itemgetter(1))\n",
    "    return (min(g, key=itemgetter(2))[0] for (_, g) in groupby(all_asteroids, key=itemgetter(1)))\n",
    "\n",
    "\n",
    "def laser(asteroids, base=23 + 29j, stop_at=200):\n",
    "    asteroids = asteroids.copy()\n",
    "    i, a = 0, None\n",
    "    while True:\n",
    "        c = closest_circle(asteroids, base)\n",
    "        for a in c:\n",
    "            asteroids -= {a}\n",
    "            i += 1\n",
    "            if i == stop_at:\n",
    "                return a\n",
    "\n",
    "\n",
    "assert (8 + 2j) == laser(parse(test), 11 + 13j)\n",
    "assert (11 + 10j) == laser(input10)"
   ]
  },
  {
   "cell_type": "code",
   "execution_count": 35,
   "outputs": [],
   "source": [],
   "metadata": {
    "collapsed": false,
    "pycharm": {
     "name": "#%%\n",
     "is_executing": false
    }
   }
  },
  {
   "cell_type": "markdown",
   "source": [
    "Day 12"
   ],
   "metadata": {
    "collapsed": false,
    "pycharm": {
     "name": "#%% md\n"
    }
   }
  },
  {
   "cell_type": "code",
   "execution_count": 36,
   "outputs": [],
   "source": [
    "def parse(lines):\n",
    "    return tuple((integers(line), (0, 0, 0)) for line in lines)\n",
    "\n",
    "\n",
    "def apply_gravity(moons):\n",
    "    deltas = ((p1, ((0 if a == b else +1 if a < b else -1)\n",
    "                    for (a, b) in zip(p1, p2)))\n",
    "              for ((p1, _), (p2, _)) in permutations(moons, 2))\n",
    "\n",
    "    incremental = ((sum(x) for x in zip(*(dv for (_, dv) in deltas)))\n",
    "                   for deltas in chunks(deltas, len(moons) - 1))\n",
    "\n",
    "    return tuple((p, tuple(sum(x) for x in zip(*(v, dv))))\n",
    "                 for ((p, v), dv) in zip(moons, incremental))\n",
    "\n",
    "\n",
    "def apply_velocity(moons):\n",
    "    return tuple((mapt(sum, zip(p, v)), v) for (p, v) in moons)\n",
    "\n",
    "\n",
    "def tick(moons):\n",
    "    return apply_velocity(apply_gravity(moons))\n",
    "\n",
    "\n",
    "def total_energy(moons):\n",
    "    return sum(quantify(p, abs) * quantify(v, abs) for (p, v) in moons)\n",
    "\n",
    "\n",
    "example_1 = '''<x=-1, y=0, z=2>\n",
    "<x=2, y=-10, z=-7>\n",
    "<x=4, y=-8, z=8>\n",
    "<x=3, y=5, z=-1>'''.split('\\n')\n",
    "\n",
    "example_2 = '''<x=-8, y=-10, z=0>\n",
    "<x=5, y=5, z=10>\n",
    "<x=2, y=-7, z=3>\n",
    "<x=9, y=-8, z=-3>'''.split('\\n')\n",
    "\n",
    "assert 179 == total_energy(repeat(tick, 10, parse(example_1)))\n",
    "assert 1940 == total_energy(repeat(tick, 100, parse(example_2)))\n",
    "\n",
    "input12 = parse(Input(12, file_template='data/advent2019/input{}.txt'))\n",
    "assert 13399 == total_energy(repeat(tick, 1000, input12))\n"
   ],
   "metadata": {
    "collapsed": false,
    "pycharm": {
     "name": "#%% \n",
     "is_executing": false
    }
   }
  },
  {
   "cell_type": "code",
   "execution_count": 37,
   "outputs": [],
   "source": [
    "def lcm(a, b):\n",
    "    return abs(a * b) // gcd(a, b)\n",
    "\n",
    "\n",
    "def find_lcm(numbers):\n",
    "    return reduce(lcm, numbers)\n",
    "\n",
    "\n",
    "def unzip(moons):\n",
    "    xs = (((x,), (vx,)) for ((x, _, _), (vx, _, _)) in moons)\n",
    "    ys = (((y,), (vy,)) for ((_, y, _), (_, vy, _)) in moons)\n",
    "    zs = (((z,), (vz,)) for ((_, _, z), (_, _, vz)) in moons)\n",
    "    return mapt(tuple, (xs, ys, zs))\n",
    "\n",
    "\n",
    "def repeats_at(moons):\n",
    "    start = moons\n",
    "    for i in range(1, bignum):\n",
    "        moons = tick(moons)\n",
    "        if moons == start:\n",
    "            return i\n",
    "\n",
    "\n",
    "xs, ys, zs = unzip(parse(example_1))\n",
    "assert 2772 == find_lcm(map(repeats_at, unzip(parse(example_1))))\n",
    "assert 4686774924 == find_lcm(map(repeats_at, unzip(parse(example_2))))\n",
    "# assert 312992287193064 == find_lcm(map(repeats_at, unzip(input12)))"
   ],
   "metadata": {
    "collapsed": false,
    "pycharm": {
     "name": "#%%\n",
     "is_executing": false
    }
   }
  },
  {
   "cell_type": "code",
   "execution_count": 37,
   "outputs": [],
   "source": [],
   "metadata": {
    "collapsed": false,
    "pycharm": {
     "name": "#%%\n",
     "is_executing": false
    }
   }
  },
  {
   "cell_type": "code",
   "execution_count": null,
   "outputs": [],
   "source": [
    "\n"
   ],
   "metadata": {
    "collapsed": false,
    "pycharm": {
     "name": "#%%\n"
    }
   }
  }
 ],
 "metadata": {
  "kernelspec": {
   "display_name": "Python 3",
   "language": "python",
   "name": "python3"
  },
  "language_info": {
   "codemirror_mode": {
    "name": "ipython",
    "version": 3
   },
   "file_extension": ".py",
   "mimetype": "text/x-python",
   "name": "python",
   "nbconvert_exporter": "python",
   "pygments_lexer": "ipython3",
   "version": "3.8.0"
  },
  "pycharm": {
   "stem_cell": {
    "cell_type": "raw",
    "source": [],
    "metadata": {
     "collapsed": false
    }
   }
  }
 },
 "nbformat": 4,
 "nbformat_minor": 1
}